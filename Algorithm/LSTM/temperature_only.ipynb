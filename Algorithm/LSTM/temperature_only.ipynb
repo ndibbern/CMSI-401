{
 "cells": [
  {
   "cell_type": "code",
   "execution_count": 1,
   "metadata": {},
   "outputs": [],
   "source": [
    "import numpy as np\n",
    "import torch\n",
    "from torch.autograd import Variable\n",
    "import torch.nn as nn\n",
    "import torch.nn.functional as F\n",
    "import torch.optim as optim\n",
    "import pandas as pd\n",
    "import utils"
   ]
  },
  {
   "cell_type": "code",
   "execution_count": 2,
   "metadata": {},
   "outputs": [
    {
     "name": "stdout",
     "output_type": "stream",
     "text": [
      "[-0.75397095 -0.89195707 -1.24458829 ... -0.0742615  -0.04870851\n",
      " -0.08448269]\n"
     ]
    },
    {
     "data": {
      "text/plain": [
       "(10000,)"
      ]
     },
     "execution_count": 2,
     "metadata": {},
     "output_type": "execute_result"
    }
   ],
   "source": [
    "#train_data = pd.read_csv('austin_weather.csv')['TempAvgF']\n",
    "train_data = pd.read_csv('../../Cleaning-the-data/tao-cleaned.csv')['Sea_Surface_Temp']\n",
    "train_data = (train_data - train_data.mean())/train_data.std()\n",
    "train_data = train_data.values[:10000]\n",
    "print(train_data)\n",
    "train_data.shape"
   ]
  },
  {
   "cell_type": "code",
   "execution_count": 3,
   "metadata": {},
   "outputs": [],
   "source": [
    "class Sequence(nn.Module):\n",
    "    def __init__(self):\n",
    "        super(Sequence,self).__init__()\n",
    "        self.lstm1 = nn.LSTM(1,32)\n",
    "        self.lstm2 = nn.LSTM(32,32)\n",
    "        self.lstm3 = nn.LSTM(32,1)\n",
    " \n",
    "    def forward(self, seq):\n",
    "        lstm1_out, _ = self.lstm1(seq, None)\n",
    "        lstm2_out, _ = self.lstm2(lstm1_out, None)\n",
    "        lstm3_out, _ = self.lstm3(lstm2_out, None)\n",
    "        return lstm3_out.squeeze(1)"
   ]
  },
  {
   "cell_type": "code",
   "execution_count": 4,
   "metadata": {},
   "outputs": [],
   "source": [
    "seq = Sequence()\n",
    "criterion = nn.MSELoss()\n",
    "optimizer = optim.Adam(seq.parameters(), lr=0.008)\n",
    "bs = 32"
   ]
  },
  {
   "cell_type": "code",
   "execution_count": 5,
   "metadata": {},
   "outputs": [
    {
     "name": "stdout",
     "output_type": "stream",
     "text": [
      "epoch= 0 \t loss= 1.4949995321868264 \t error= 97.17019038837391 percent\n",
      "epoch= 10 \t loss= 1.4227412087954616 \t error= 90.76863799283197 percent\n",
      "epoch= 20 \t loss= 1.4182212708971147 \t error= 92.17928086344901 percent\n",
      "epoch= 30 \t loss= 1.417236609641702 \t error= 90.5801747311828 percent\n",
      "epoch= 40 \t loss= 1.4163511501215689 \t error= 90.70777484241749 percent\n"
     ]
    }
   ],
   "source": [
    "for epoch in range(50):\n",
    "    running_loss = 0\n",
    "    running_error = 0\n",
    "    num_batches = 0\n",
    "    for i in range(0, 10000, 5):\n",
    "        data = train_data[i:i+bs]\n",
    "        xs = torch.Tensor(data[:-1]).view(-1,1,1)\n",
    "        ys = torch.Tensor(data[1:])\n",
    "        \n",
    "        lstm_out = seq(xs)\n",
    "        loss = criterion(lstm_out.view(-1), ys)\n",
    "        \n",
    "        optimizer.zero_grad()\n",
    "        loss.backward()\n",
    "        optimizer.step()\n",
    "        \n",
    "        # compute some stats:\n",
    "        \n",
    "        num_batches+=1\n",
    "        \n",
    "        with torch.no_grad():\n",
    "            running_loss += loss.item()\n",
    "            error = utils.get_error(lstm_out.view(1,-1) , ys)\n",
    "            running_error += error \n",
    "\n",
    "    # once the epoch is finished we divide the \"running quantities\"\n",
    "    # by the number of batches\n",
    "    if epoch % 10 == 0 : \n",
    "        total_loss = running_loss/num_batches\n",
    "        total_error = running_error/num_batches\n",
    "\n",
    "        print('epoch=',epoch, '\\t loss=', total_loss, '\\t error=', total_error*100 ,'percent')"
   ]
  },
  {
   "cell_type": "code",
   "execution_count": null,
   "metadata": {},
   "outputs": [],
   "source": []
  },
  {
   "cell_type": "code",
   "execution_count": null,
   "metadata": {},
   "outputs": [],
   "source": []
  }
 ],
 "metadata": {
  "kernelspec": {
   "display_name": "Python 3",
   "language": "python",
   "name": "python3"
  },
  "language_info": {
   "codemirror_mode": {
    "name": "ipython",
    "version": 3
   },
   "file_extension": ".py",
   "mimetype": "text/x-python",
   "name": "python",
   "nbconvert_exporter": "python",
   "pygments_lexer": "ipython3",
   "version": "3.7.0"
  }
 },
 "nbformat": 4,
 "nbformat_minor": 2
}
