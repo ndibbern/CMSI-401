{
 "cells": [
  {
   "cell_type": "markdown",
   "metadata": {},
   "source": [
    "# 03 - Solution"
   ]
  },
  {
   "cell_type": "code",
   "execution_count": 1,
   "metadata": {},
   "outputs": [],
   "source": [
    "import torch"
   ]
  },
  {
   "cell_type": "code",
   "execution_count": 2,
   "metadata": {},
   "outputs": [],
   "source": [
    "train_data = torch.load('../../data/imdb/train_data.pt')\n",
    "train_label = torch.load('../../data/imdb/train_label.pt')\n",
    "test_data = torch.load('../../data/imdb/test_data.pt')\n",
    "test_label = torch.load('../../data/imdb/test_label.pt')"
   ]
  },
  {
   "cell_type": "code",
   "execution_count": 3,
   "metadata": {},
   "outputs": [],
   "source": [
    "word2idx = torch.load('../../data/imdb/word2idx.pt')\n",
    "idx2word = torch.load('../../data/imdb/idx2word.pt')"
   ]
  },
  {
   "cell_type": "markdown",
   "metadata": {},
   "source": [
    "### What are the length of the training and test set?"
   ]
  },
  {
   "cell_type": "code",
   "execution_count": 5,
   "metadata": {},
   "outputs": [
    {
     "name": "stdout",
     "output_type": "stream",
     "text": [
      "25000\n",
      "25000\n"
     ]
    }
   ],
   "source": [
    "print(len(train_data))\n",
    "print(len(test_data))"
   ]
  },
  {
   "cell_type": "markdown",
   "metadata": {},
   "source": [
    "### Display review 21,000 of the test set (just the integers, not the words). Is it a negative (label=0) or positive (label=1) review?"
   ]
  },
  {
   "cell_type": "code",
   "execution_count": 48,
   "metadata": {},
   "outputs": [
    {
     "name": "stdout",
     "output_type": "stream",
     "text": [
      "tensor([   66,     9,     2, 15355,     3,     0,     3,  3378,     3,   418,\n",
      "          117,   156,   145,   237,    10,    83,   457,   134,    88,    11,\n",
      "          201,    30,   286,    67,    32,   947,    44,   107,   169,  2640,\n",
      "            7,   117,    88,    16,    22,     9,     6,  7244,     8,   221,\n",
      "          544,    88,   132,    58,    58,    58,   744,    41,    82,    41,\n",
      "           41,    41,   156,    92,    30,  2459,    88,    12,    15,   416,\n",
      "            7,  9466,    88,    57,    30,   145,   130,    16,    22,    88,\n",
      "           31,   264,   254,    47,  3808,    32,   128,  4006,     8,  7557,\n",
      "           88,   991,     3,   694,   679,    46,     2,   591,  2238,     7,\n",
      "          176,    16,    22,    88,    76,    31,    77,   202,     8,   465,\n",
      "            3,    57,    30,   130,    12,    88,    67,    32,    62,    60,\n",
      "          221,   117,    88,   108,   110,    18,  9219,    22,    85,    30,\n",
      "         1883, 24842,   706,  2502,   116,    88,    26,     3,   156,   837,\n",
      "            8,  2502,    76,    11,   202,     8,  1358,    83,   823,    88])\n",
      " \n",
      "tensor(0)\n"
     ]
    }
   ],
   "source": [
    "print( test_data[21000] )\n",
    "print(' ')\n",
    "print( test_label[21000])"
   ]
  },
  {
   "cell_type": "markdown",
   "metadata": {},
   "source": [
    "### What is word 300 of the vocabulary?"
   ]
  },
  {
   "cell_type": "code",
   "execution_count": 72,
   "metadata": {},
   "outputs": [
    {
     "data": {
      "text/plain": [
       "'place'"
      ]
     },
     "execution_count": 72,
     "metadata": {},
     "output_type": "execute_result"
    }
   ],
   "source": [
    "idx2word[300]"
   ]
  },
  {
   "cell_type": "markdown",
   "metadata": {},
   "source": [
    "### What is word 13,300 of the vocabulary?"
   ]
  },
  {
   "cell_type": "code",
   "execution_count": 73,
   "metadata": {},
   "outputs": [
    {
     "data": {
      "text/plain": [
       "'Gandalf'"
      ]
     },
     "execution_count": 73,
     "metadata": {},
     "output_type": "execute_result"
    }
   ],
   "source": [
    "idx2word[13300]"
   ]
  },
  {
   "cell_type": "markdown",
   "metadata": {},
   "source": [
    "### What is word 10,692 of the vocabulary?"
   ]
  },
  {
   "cell_type": "code",
   "execution_count": 74,
   "metadata": {},
   "outputs": [
    {
     "data": {
      "text/plain": [
       "'candidates'"
      ]
     },
     "execution_count": 74,
     "metadata": {},
     "output_type": "execute_result"
    }
   ],
   "source": [
    "idx2word[10692]"
   ]
  },
  {
   "cell_type": "markdown",
   "metadata": {},
   "source": [
    "### What is word 0 of the vocabulary?"
   ]
  },
  {
   "cell_type": "code",
   "execution_count": 75,
   "metadata": {},
   "outputs": [
    {
     "data": {
      "text/plain": [
       "'<unk>'"
      ]
     },
     "execution_count": 75,
     "metadata": {},
     "output_type": "execute_result"
    }
   ],
   "source": [
    "idx2word[0]"
   ]
  },
  {
   "cell_type": "markdown",
   "metadata": {},
   "source": [
    "### What are the indices of the following words. Which of these words do NOT belong to the vocabulary?\n",
    "* loss\n",
    "* DiCaprio\n",
    "* Dicaprio\n",
    "* great\n",
    "* Great\n",
    "* GREAT\n",
    "* !\n",
    "* gradient\n",
    "* derivative\n",
    "* entropy\n",
    "* AI\n",
    "* neural"
   ]
  },
  {
   "cell_type": "code",
   "execution_count": 99,
   "metadata": {},
   "outputs": [
    {
     "data": {
      "text/plain": [
       "3719"
      ]
     },
     "execution_count": 99,
     "metadata": {},
     "output_type": "execute_result"
    }
   ],
   "source": [
    "word2idx['network']"
   ]
  },
  {
   "cell_type": "markdown",
   "metadata": {},
   "source": [
    "### Make a function that take a movie review $x$ ($x$ is a LongTensor) as well as the idx2word dixtionary and returns the actual text of the movie review. To do this you need to convert the LongTensor into a list of words, then use the join command to convert this list of words into a text. Don't forget that you will need to use item() in order to convert 0-dimensional tensor to python number"
   ]
  },
  {
   "cell_type": "code",
   "execution_count": 84,
   "metadata": {},
   "outputs": [],
   "source": [
    "def tensor2text(x , idx2word):\n",
    "    list_of_words = [ idx2word[idx.item()] for idx in x]\n",
    "    text = ' '.join(list_of_words)\n",
    "    return text    "
   ]
  },
  {
   "cell_type": "markdown",
   "metadata": {},
   "source": [
    "### Test your function on review 1000 of the test set:"
   ]
  },
  {
   "cell_type": "code",
   "execution_count": 85,
   "metadata": {},
   "outputs": [
    {
     "data": {
      "text/plain": [
       "\"People say that this film is a ' typical teen horror movie ' ... well it 's a horror movie with a teenage girl in it .. what do you expect ! It 's a good film , I counted 3 actual screams in the audience whilst the film was on and it was a very jumpy scary film . I was n't bored in the film at any point and I was even on the edge of my seat at one point . The only thing that was slightly bad was that it was a tiny bit slow in getting into the actual storyline but this all led up to why she was where she was and why what happened , happened . The acting was good , the scenery was good and the storyline was good too , I hope to see a ' When A Stranger <unk> 2 ' in a few months ! Good film !\""
      ]
     },
     "execution_count": 85,
     "metadata": {},
     "output_type": "execute_result"
    }
   ],
   "source": [
    "tensor2text( test_data[1000], idx2word)"
   ]
  },
  {
   "cell_type": "markdown",
   "metadata": {},
   "source": [
    "### Is it a positive of negative review in your opinion? Check the label of the movie (negative=0, positive=1)"
   ]
  },
  {
   "cell_type": "code",
   "execution_count": 86,
   "metadata": {},
   "outputs": [
    {
     "data": {
      "text/plain": [
       "tensor(1)"
      ]
     },
     "execution_count": 86,
     "metadata": {},
     "output_type": "execute_result"
    }
   ],
   "source": [
    "test_label[1000]"
   ]
  },
  {
   "cell_type": "markdown",
   "metadata": {},
   "source": [
    "### Now look at review 21,000 and 24,000"
   ]
  },
  {
   "cell_type": "code",
   "execution_count": 87,
   "metadata": {},
   "outputs": [
    {
     "data": {
      "text/plain": [
       "'Mansfield Park , in its second half , is my favorite of Austen \\'s novels , and Fanny Price my favorite of her heroines , so I \\'m saddened by the unhappy fate she \\'s suffered in her <unk> and small - screen representations . The only good reading of the character I \\'ve heard was done for radio by Amanda Root , who gave it the same quality as she did the character Anne in the film of \" <unk> \" : a stern , sure , heartfelt moral <unk> . If the actress had been younger she would have been good visual casting as well ; but the <unk> that have reached our eyes to date have more resembled , respectively : Mary Crawford ; Ruby the <unk> girl ; and ( in this incarnation ) a jovial serving wench , or possibly tart , with her high moral principles pulled down a <unk> /><br />Well , I had hoped for better , but had feared worse . The serial had a solid Edmund , in an actor who was best at likable saps , and the perfect , i.e. perfectly abominable , Mrs. Norris ; otherwise it was <unk> . The film , which was apparently intended as a deconstruction or some other bad theatrical idea , came off as a mixed - up burlesque . After such disappointments , and the more recent disappointments of this production \\'s sister pieces ( the new \" <unk> \" and \" <unk> Abbey \" ) , I could n\\'t help but have mixed expectations for this one ; and on the whole , it left me feeling slightly better disposed to it than not . It condensed the novel intelligently , and in the end left me with much the same feeling , as a comic - book version might . On the other hand , to do so it had to <unk> most of the characters , except the <unk> , and it incidentally diminished or eliminated most or all of the most memorable things in the book , including its most famous character and what should be , if it is n\\'t , its most famous scene.<br /><br />The character is the <unk> Aunt Norris , always ready to direct other people in what to do , but always managing to avoid having to do any of it herself ; here one gets no sense of that at all . And with her goes much else : her remark that cuts through Fanny , \" ... considering who and what you are \" ; Sir Thomas \\'s discovery that she has forbidden Fanny a fire in her room all these years , and his <unk> apology for her ; Fanny \\'s honesty in <unk> , during a visit home , that Aunt Norris , for all her faults , could manage the household better than either of her sisters . But then , that entire trip is missing from the story , and so is most of what goes on at the theatrical <unk> and most of what <unk> Sir Thomas on his return ; and in fact Sir Thomas himself , and his wife , are different from what they were . Above all , the scene in which Crawford proposes to Fanny , one of Austen \\'s most complex , is simplified to a bare telling ; missing from it is Fanny \\'s staunch <unk> of what she knows to be right , and what she knows to be very probably true , against all the distractions Crawford and anybody else can throw at her . To a male reader , now no less than when it was written , it reveals with <unk> clarity -- <unk> , at any rate , as far as I know -- what a woman goes through in trying to deal fairly but firmly with a man she has reason to distrust . It \\'s a brilliant scene , in the novel ; on TV it \\'s just a scene.<br /><br />And , Fanny , oh , Fanny : when will we see your like ?'"
      ]
     },
     "execution_count": 87,
     "metadata": {},
     "output_type": "execute_result"
    }
   ],
   "source": [
    "tensor2text(test_data[24000] , idx2word)"
   ]
  },
  {
   "cell_type": "markdown",
   "metadata": {},
   "source": [
    "### Make a function that takes a text as well as word2idx as input, and return a LongTensor containing the indices of each words. You will need to use the command split to break the text into a list of words, then you will convert this list of words into a list of integers, then you will convert this list of integers into a LongTensor"
   ]
  },
  {
   "cell_type": "code",
   "execution_count": 88,
   "metadata": {},
   "outputs": [],
   "source": [
    "def text2tensor(text, word2idx):\n",
    "    list_of_words = text.split()\n",
    "    list_of_int = [ word2idx[w] for w in list_of_words ]\n",
    "    x=torch.LongTensor(list_of_int)\n",
    "    return x"
   ]
  },
  {
   "cell_type": "markdown",
   "metadata": {},
   "source": [
    "### Write your own movie review and convert it into a LongTensor using the function you just wrote. Then convert it back into a text using the function tensor2text()."
   ]
  },
  {
   "cell_type": "code",
   "execution_count": 94,
   "metadata": {},
   "outputs": [],
   "source": [
    "my_review = 'This movie was really a GOOD one !'"
   ]
  },
  {
   "cell_type": "code",
   "execution_count": 95,
   "metadata": {},
   "outputs": [],
   "source": [
    "x = text2tensor(my_review, word2idx)"
   ]
  },
  {
   "cell_type": "code",
   "execution_count": 96,
   "metadata": {},
   "outputs": [
    {
     "data": {
      "text/plain": [
       "tensor([  66,   22,   19,   77,    6, 5282,   38,   41])"
      ]
     },
     "execution_count": 96,
     "metadata": {},
     "output_type": "execute_result"
    }
   ],
   "source": [
    "x"
   ]
  },
  {
   "cell_type": "code",
   "execution_count": 97,
   "metadata": {},
   "outputs": [
    {
     "data": {
      "text/plain": [
       "'This movie was really a GOOD one !'"
      ]
     },
     "execution_count": 97,
     "metadata": {},
     "output_type": "execute_result"
    }
   ],
   "source": [
    "tensor2text(x, idx2word)"
   ]
  }
 ],
 "metadata": {
  "kernelspec": {
   "display_name": "Python 3",
   "language": "python",
   "name": "python3"
  },
  "language_info": {
   "codemirror_mode": {
    "name": "ipython",
    "version": 3
   },
   "file_extension": ".py",
   "mimetype": "text/x-python",
   "name": "python",
   "nbconvert_exporter": "python",
   "pygments_lexer": "ipython3",
   "version": "3.6.4"
  }
 },
 "nbformat": 4,
 "nbformat_minor": 2
}
