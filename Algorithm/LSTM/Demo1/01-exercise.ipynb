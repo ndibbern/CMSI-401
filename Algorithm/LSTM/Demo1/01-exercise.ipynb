{
 "cells": [
  {
   "cell_type": "markdown",
   "metadata": {},
   "source": [
    "# Exercise"
   ]
  },
  {
   "cell_type": "code",
   "execution_count": null,
   "metadata": {},
   "outputs": [],
   "source": [
    "import torch\n",
    "import torch.nn as nn"
   ]
  },
  {
   "cell_type": "markdown",
   "metadata": {},
   "source": [
    "### Make a LSTM module\n",
    "* input size:  4\n",
    "* hidden size:  2  \n",
    "* number of layers: 3\n",
    "* no bias"
   ]
  },
  {
   "cell_type": "code",
   "execution_count": null,
   "metadata": {},
   "outputs": [],
   "source": [
    "mod = # complete\n",
    "print(mod)"
   ]
  },
  {
   "cell_type": "markdown",
   "metadata": {},
   "source": [
    "### Print weight_ih from layer 0, 1 and 2 (before to do it ask yourself what will be the size)"
   ]
  },
  {
   "cell_type": "code",
   "execution_count": null,
   "metadata": {},
   "outputs": [],
   "source": [
    "# COMPLETE"
   ]
  },
  {
   "cell_type": "markdown",
   "metadata": {},
   "source": [
    "### Print weight_hh from layer 0, 1 and 2 (before to do it ask yourself what will be the size)"
   ]
  },
  {
   "cell_type": "code",
   "execution_count": null,
   "metadata": {},
   "outputs": [],
   "source": [
    "# COMPLETE"
   ]
  },
  {
   "cell_type": "markdown",
   "metadata": {},
   "source": [
    "### Create a sequence to be processed by the RNN:\n",
    "$$\n",
    "x_1 = \\begin{bmatrix}\n",
    "0\\\\1\\\\ 0\\\\0\n",
    "\\end{bmatrix}\n",
    "\\qquad\n",
    "x_2 = \\begin{bmatrix}\n",
    "0\\\\0\\\\0\\\\ 1\n",
    "\\end{bmatrix}\n",
    "\\qquad\n",
    "x_3 = \\begin{bmatrix}\n",
    " 1\\\\0\\\\0\\\\0\n",
    "\\end{bmatrix}\n",
    "\\qquad\n",
    "x_4 = \\begin{bmatrix}\n",
    " 1\\\\0\\\\0\\\\0\n",
    "\\end{bmatrix}\n",
    "\\qquad\n",
    "x_5 = \\begin{bmatrix}\n",
    " 1\\\\0\\\\0\\\\0\n",
    "\\end{bmatrix}\n",
    "$$"
   ]
  },
  {
   "cell_type": "code",
   "execution_count": null,
   "metadata": {},
   "outputs": [],
   "source": [
    "# COMPLETE"
   ]
  },
  {
   "cell_type": "markdown",
   "metadata": {},
   "source": [
    "### Put the squence in a tensor of appropriate shape:  seq_len x bs x input_size:"
   ]
  },
  {
   "cell_type": "code",
   "execution_count": null,
   "metadata": {},
   "outputs": [],
   "source": [
    "# COMPLETE"
   ]
  },
  {
   "cell_type": "markdown",
   "metadata": {},
   "source": [
    "### Feed the sequence to the rnn"
   ]
  },
  {
   "cell_type": "code",
   "execution_count": null,
   "metadata": {},
   "outputs": [],
   "source": [
    "# COMPLETE"
   ]
  },
  {
   "cell_type": "markdown",
   "metadata": {},
   "source": [
    "### Print the last hidden state and the last memory cell and ask yourself if this is the expected dimension "
   ]
  },
  {
   "cell_type": "code",
   "execution_count": null,
   "metadata": {},
   "outputs": [],
   "source": [
    "# COMPLETE"
   ]
  },
  {
   "cell_type": "markdown",
   "metadata": {},
   "source": [
    "### Print the hidden states from the last layer and ask yourself if it is the correct dimension"
   ]
  },
  {
   "cell_type": "code",
   "execution_count": null,
   "metadata": {},
   "outputs": [],
   "source": [
    "# COMPLETE"
   ]
  }
 ],
 "metadata": {
  "kernelspec": {
   "display_name": "Python 3",
   "language": "python",
   "name": "python3"
  },
  "language_info": {
   "codemirror_mode": {
    "name": "ipython",
    "version": 3
   },
   "file_extension": ".py",
   "mimetype": "text/x-python",
   "name": "python",
   "nbconvert_exporter": "python",
   "pygments_lexer": "ipython3",
   "version": "3.6.4"
  }
 },
 "nbformat": 4,
 "nbformat_minor": 2
}
