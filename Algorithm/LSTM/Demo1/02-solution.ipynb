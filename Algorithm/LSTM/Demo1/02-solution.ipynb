{
 "cells": [
  {
   "cell_type": "markdown",
   "metadata": {},
   "source": [
    "# Solution"
   ]
  },
  {
   "cell_type": "code",
   "execution_count": 1,
   "metadata": {},
   "outputs": [],
   "source": [
    "import torch\n",
    "import torch.nn as nn"
   ]
  },
  {
   "cell_type": "markdown",
   "metadata": {},
   "source": [
    "### Make a LSTM module\n",
    "* input size:  4\n",
    "* hidden size:  2  \n",
    "* number of layers: 3"
   ]
  },
  {
   "cell_type": "code",
   "execution_count": 2,
   "metadata": {},
   "outputs": [
    {
     "name": "stdout",
     "output_type": "stream",
     "text": [
      "LSTM(4, 2, num_layers=3, bias=False)\n"
     ]
    }
   ],
   "source": [
    "mod = nn.LSTM(4,2, num_layers=3, bias=False)\n",
    "print(mod)"
   ]
  },
  {
   "cell_type": "markdown",
   "metadata": {},
   "source": [
    "### Print weight_ih from layer 0, 1 and 2 (before to do it ask yourself what will be the size)"
   ]
  },
  {
   "cell_type": "code",
   "execution_count": 3,
   "metadata": {},
   "outputs": [
    {
     "name": "stdout",
     "output_type": "stream",
     "text": [
      "Parameter containing:\n",
      "tensor([[ 0.6810,  0.1597, -0.4753,  0.6480],\n",
      "        [ 0.3999,  0.0845, -0.1915, -0.1690],\n",
      "        [-0.1068, -0.5661, -0.6647, -0.0684],\n",
      "        [ 0.0035,  0.0086,  0.3618, -0.5600],\n",
      "        [-0.1475,  0.2888, -0.0100, -0.1515],\n",
      "        [-0.6326,  0.4274, -0.7024,  0.3786],\n",
      "        [ 0.3331, -0.0639, -0.3803, -0.1814],\n",
      "        [ 0.5822, -0.1142, -0.6537,  0.4741]], requires_grad=True)\n"
     ]
    }
   ],
   "source": [
    "print(mod.weight_ih_l0)"
   ]
  },
  {
   "cell_type": "code",
   "execution_count": 4,
   "metadata": {},
   "outputs": [
    {
     "name": "stdout",
     "output_type": "stream",
     "text": [
      "Parameter containing:\n",
      "tensor([[ 0.2403, -0.2977],\n",
      "        [ 0.3457,  0.1963],\n",
      "        [ 0.3197, -0.5851],\n",
      "        [-0.5602, -0.5779],\n",
      "        [ 0.0531,  0.4353],\n",
      "        [-0.5108, -0.3760],\n",
      "        [ 0.2038, -0.6399],\n",
      "        [ 0.6484, -0.2659]], requires_grad=True)\n"
     ]
    }
   ],
   "source": [
    "print(mod.weight_ih_l1)"
   ]
  },
  {
   "cell_type": "code",
   "execution_count": 5,
   "metadata": {},
   "outputs": [
    {
     "name": "stdout",
     "output_type": "stream",
     "text": [
      "Parameter containing:\n",
      "tensor([[-0.6126, -0.3906],\n",
      "        [-0.2286, -0.6504],\n",
      "        [ 0.5544,  0.5939],\n",
      "        [ 0.6307,  0.1669],\n",
      "        [-0.2800,  0.1384],\n",
      "        [-0.2687, -0.3656],\n",
      "        [-0.2257,  0.2897],\n",
      "        [-0.1148,  0.2490]], requires_grad=True)\n"
     ]
    }
   ],
   "source": [
    "print(mod.weight_ih_l2)"
   ]
  },
  {
   "cell_type": "markdown",
   "metadata": {},
   "source": [
    "### Print weight_hh from layer 0, 1 and 2 (before to do it ask yourself what will be the size)"
   ]
  },
  {
   "cell_type": "code",
   "execution_count": 6,
   "metadata": {},
   "outputs": [
    {
     "name": "stdout",
     "output_type": "stream",
     "text": [
      "Parameter containing:\n",
      "tensor([[-0.1176, -0.0421],\n",
      "        [ 0.2910,  0.0622],\n",
      "        [-0.3460, -0.0967],\n",
      "        [ 0.1649,  0.4669],\n",
      "        [ 0.0860, -0.4596],\n",
      "        [-0.2235,  0.6167],\n",
      "        [-0.4651,  0.3319],\n",
      "        [-0.2829,  0.5531]], requires_grad=True)\n",
      "Parameter containing:\n",
      "tensor([[ 0.0272,  0.6871],\n",
      "        [-0.6316, -0.1380],\n",
      "        [-0.1398, -0.3466],\n",
      "        [-0.2079, -0.2171],\n",
      "        [-0.6483,  0.2084],\n",
      "        [-0.1247,  0.2557],\n",
      "        [-0.3080, -0.4360],\n",
      "        [-0.0921, -0.2234]], requires_grad=True)\n",
      "Parameter containing:\n",
      "tensor([[ 0.5408,  0.0462],\n",
      "        [ 0.4705,  0.1985],\n",
      "        [ 0.2371, -0.5406],\n",
      "        [-0.4348,  0.4579],\n",
      "        [ 0.6672, -0.1096],\n",
      "        [ 0.4246, -0.3878],\n",
      "        [ 0.5296,  0.1628],\n",
      "        [-0.1355,  0.2892]], requires_grad=True)\n"
     ]
    }
   ],
   "source": [
    "print(mod.weight_hh_l0)\n",
    "print(mod.weight_hh_l1)\n",
    "print(mod.weight_hh_l2)"
   ]
  },
  {
   "cell_type": "markdown",
   "metadata": {},
   "source": [
    "### Create a sequence to be processed by the RNN:\n",
    "$$\n",
    "x_1 = \\begin{bmatrix}\n",
    "0\\\\1\\\\ 0\\\\0\n",
    "\\end{bmatrix}\n",
    "\\qquad\n",
    "x_2 = \\begin{bmatrix}\n",
    "0\\\\0\\\\0\\\\ 1\n",
    "\\end{bmatrix}\n",
    "\\qquad\n",
    "x_3 = \\begin{bmatrix}\n",
    " 1\\\\0\\\\0\\\\0\n",
    "\\end{bmatrix}\n",
    "\\qquad\n",
    "x_4 = \\begin{bmatrix}\n",
    " 1\\\\0\\\\0\\\\0\n",
    "\\end{bmatrix}\n",
    "\\qquad\n",
    "x_5 = \\begin{bmatrix}\n",
    " 1\\\\0\\\\0\\\\0\n",
    "\\end{bmatrix}\n",
    "$$"
   ]
  },
  {
   "cell_type": "code",
   "execution_count": 7,
   "metadata": {},
   "outputs": [],
   "source": [
    "x1=torch.Tensor([0,1,0,0])\n",
    "x2=torch.Tensor([0,0,0,1])\n",
    "x3=torch.Tensor([1,0,0,0])\n",
    "x4=torch.Tensor([1,0,0,0])\n",
    "x5=torch.Tensor([1,0,0,0])"
   ]
  },
  {
   "cell_type": "markdown",
   "metadata": {},
   "source": [
    "### Put the squence in a tensor of appropriate shape:  seq_len x bs x input_size:"
   ]
  },
  {
   "cell_type": "code",
   "execution_count": 8,
   "metadata": {},
   "outputs": [],
   "source": [
    "input_seq = torch.stack( (x1,x2,x3,x4,x5) , dim=0) "
   ]
  },
  {
   "cell_type": "code",
   "execution_count": 9,
   "metadata": {},
   "outputs": [
    {
     "name": "stdout",
     "output_type": "stream",
     "text": [
      "tensor([[0., 1., 0., 0.],\n",
      "        [0., 0., 0., 1.],\n",
      "        [1., 0., 0., 0.],\n",
      "        [1., 0., 0., 0.],\n",
      "        [1., 0., 0., 0.]])\n",
      "torch.Size([5, 4])\n"
     ]
    }
   ],
   "source": [
    "print(input_seq)\n",
    "print(input_seq.size())"
   ]
  },
  {
   "cell_type": "code",
   "execution_count": 10,
   "metadata": {},
   "outputs": [],
   "source": [
    "bs=1\n",
    "input_seq = input_seq.view(5,bs,4)"
   ]
  },
  {
   "cell_type": "code",
   "execution_count": 11,
   "metadata": {},
   "outputs": [
    {
     "name": "stdout",
     "output_type": "stream",
     "text": [
      "torch.Size([5, 1, 4])\n"
     ]
    }
   ],
   "source": [
    "print(input_seq.size())"
   ]
  },
  {
   "cell_type": "markdown",
   "metadata": {},
   "source": [
    "### Feed the sequence to the rnn"
   ]
  },
  {
   "cell_type": "code",
   "execution_count": 12,
   "metadata": {},
   "outputs": [],
   "source": [
    "\n",
    "output_seq, (h_last,c_last) = mod( input_seq )\n"
   ]
  },
  {
   "cell_type": "markdown",
   "metadata": {},
   "source": [
    "### Print the last hidden state and the last memory cell and ask yourself if this is the expected dimension "
   ]
  },
  {
   "cell_type": "code",
   "execution_count": 13,
   "metadata": {},
   "outputs": [
    {
     "data": {
      "text/plain": [
       "tensor([[[-0.0582, -0.3199]],\n",
       "\n",
       "        [[-0.0506,  0.0615]],\n",
       "\n",
       "        [[ 0.0077, -0.0025]]], grad_fn=<ViewBackward>)"
      ]
     },
     "execution_count": 13,
     "metadata": {},
     "output_type": "execute_result"
    }
   ],
   "source": [
    "h_last"
   ]
  },
  {
   "cell_type": "code",
   "execution_count": 14,
   "metadata": {},
   "outputs": [
    {
     "data": {
      "text/plain": [
       "tensor([[[-0.1020, -0.5765]],\n",
       "\n",
       "        [[-0.0929,  0.1211]],\n",
       "\n",
       "        [[ 0.0152, -0.0049]]], grad_fn=<ViewBackward>)"
      ]
     },
     "execution_count": 14,
     "metadata": {},
     "output_type": "execute_result"
    }
   ],
   "source": [
    "c_last"
   ]
  },
  {
   "cell_type": "markdown",
   "metadata": {},
   "source": [
    "### Print the hidden states from the last layer and ask yourself if it is the correct dimension"
   ]
  },
  {
   "cell_type": "code",
   "execution_count": 15,
   "metadata": {},
   "outputs": [
    {
     "data": {
      "text/plain": [
       "tensor([[[-0.0014,  0.0010]],\n",
       "\n",
       "        [[-0.0030,  0.0011]],\n",
       "\n",
       "        [[-0.0013, -0.0001]],\n",
       "\n",
       "        [[ 0.0028, -0.0015]],\n",
       "\n",
       "        [[ 0.0077, -0.0025]]], grad_fn=<CatBackward>)"
      ]
     },
     "execution_count": 15,
     "metadata": {},
     "output_type": "execute_result"
    }
   ],
   "source": [
    "output_seq"
   ]
  }
 ],
 "metadata": {
  "kernelspec": {
   "display_name": "Python 3",
   "language": "python",
   "name": "python3"
  },
  "language_info": {
   "codemirror_mode": {
    "name": "ipython",
    "version": 3
   },
   "file_extension": ".py",
   "mimetype": "text/x-python",
   "name": "python",
   "nbconvert_exporter": "python",
   "pygments_lexer": "ipython3",
   "version": "3.7.0"
  }
 },
 "nbformat": 4,
 "nbformat_minor": 2
}
