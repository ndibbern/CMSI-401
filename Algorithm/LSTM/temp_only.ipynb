{
 "cells": [
  {
   "cell_type": "code",
   "execution_count": 40,
   "metadata": {},
   "outputs": [],
   "source": [
    "import numpy as np\n",
    "import torch\n",
    "from torch.autograd import Variable\n",
    "import torch.nn as nn\n",
    "import torch.nn.functional as F\n",
    "import torch.optim as optim\n",
    "import pandas as pd"
   ]
  },
  {
   "cell_type": "code",
   "execution_count": 41,
   "metadata": {},
   "outputs": [
    {
     "name": "stdout",
     "output_type": "stream",
     "text": [
      "[-0.75397095 -0.89195707 -1.24458829 ... -0.0742615  -0.04870851\n",
      " -0.08448269]\n"
     ]
    },
    {
     "data": {
      "text/plain": [
       "(10000,)"
      ]
     },
     "execution_count": 41,
     "metadata": {},
     "output_type": "execute_result"
    }
   ],
   "source": [
    "#train_data = pd.read_csv('austin_weather.csv')['TempAvgF']\n",
    "train_data = pd.read_csv('../../Cleaning-the-data/tao-cleaned.csv')['Sea_Surface_Temp']\n",
    "train_data = (train_data - train_data.mean())/train_data.std()\n",
    "train_data = train_data.values[:10000]\n",
    "print(train_data)\n",
    "train_data.shape"
   ]
  },
  {
   "cell_type": "code",
   "execution_count": 42,
   "metadata": {},
   "outputs": [],
   "source": [
    "class Sequence(nn.Module):\n",
    "    def __init__(self):\n",
    "        super(Sequence,self).__init__()\n",
    "        self.lstm1 = nn.LSTM(1,32)\n",
    "        self.lstm2 = nn.LSTM(32,32)\n",
    "        self.lstm3 = nn.LSTM(32,1)\n",
    " \n",
    "    def forward(self, seq):\n",
    "        lstm1_out, _ = self.lstm1(seq, None)\n",
    "        lstm2_out, _ = self.lstm2(lstm1_out, None)\n",
    "        lstm3_out, _ = self.lstm3(lstm2_out, None)\n",
    "        return lstm3_out.squeeze(1)"
   ]
  },
  {
   "cell_type": "code",
   "execution_count": 43,
   "metadata": {},
   "outputs": [],
   "source": [
    "seq = Sequence()\n",
    "criterion = nn.MSELoss()\n",
    "optimizer = optim.Adam(seq.parameters(), lr=0.008)"
   ]
  },
  {
   "cell_type": "code",
   "execution_count": null,
   "metadata": {},
   "outputs": [
    {
     "name": "stderr",
     "output_type": "stream",
     "text": [
      "/usr/local/lib/python3.7/site-packages/ipykernel_launcher.py:16: UserWarning: invalid index of a 0-dim tensor. This will be an error in PyTorch 0.5. Use tensor.item() to convert a 0-dim tensor to a Python number\n",
      "  app.launch_new_instance()\n"
     ]
    },
    {
     "name": "stdout",
     "output_type": "stream",
     "text": [
      "epoch 0, loss 148.8%\n",
      "epoch 1, loss 142.4%\n",
      "epoch 2, loss 144.2%\n",
      "epoch 3, loss 142.1%\n",
      "epoch 4, loss 141.9%\n",
      "epoch 5, loss 142.1%\n"
     ]
    }
   ],
   "source": [
    "for epoch in range(50):\n",
    "    total_loss = 0\n",
    "    passes = 0\n",
    "    for i in range(0, 10000, 5):\n",
    "        data = train_data[i:i+32]\n",
    "        xs = torch.Tensor(data[:-1]).view(-1,1,1)\n",
    "        ys = torch.Tensor(data[1:])\n",
    "        \n",
    "        lstm_out = seq(xs)\n",
    "        loss = criterion(lstm_out.view(-1), ys)\n",
    "        \n",
    "        optimizer.zero_grad()\n",
    "        loss.backward()\n",
    "        optimizer.step()\n",
    "        \n",
    "        total_loss += loss.data[0]\n",
    "        passes += 1\n",
    "        \n",
    "    print(\"epoch {}, loss {:2.1%}\".format(epoch, total_loss/passes))"
   ]
  },
  {
   "cell_type": "code",
   "execution_count": null,
   "metadata": {},
   "outputs": [],
   "source": []
  },
  {
   "cell_type": "code",
   "execution_count": null,
   "metadata": {},
   "outputs": [],
   "source": []
  }
 ],
 "metadata": {
  "kernelspec": {
   "display_name": "Python 3",
   "language": "python",
   "name": "python3"
  },
  "language_info": {
   "codemirror_mode": {
    "name": "ipython",
    "version": 3
   },
   "file_extension": ".py",
   "mimetype": "text/x-python",
   "name": "python",
   "nbconvert_exporter": "python",
   "pygments_lexer": "ipython3",
   "version": "3.7.0"
  }
 },
 "nbformat": 4,
 "nbformat_minor": 2
}
