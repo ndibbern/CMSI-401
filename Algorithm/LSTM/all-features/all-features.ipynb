{
 "cells": [
  {
   "cell_type": "code",
   "execution_count": 56,
   "metadata": {},
   "outputs": [
    {
     "data": {
      "text/plain": [
       "<torch._C.Generator at 0x11a8c00d0>"
      ]
     },
     "execution_count": 56,
     "metadata": {},
     "output_type": "execute_result"
    }
   ],
   "source": [
    "import numpy as np\n",
    "import torch\n",
    "from torch.autograd import Variable\n",
    "import torch.nn as nn\n",
    "import torch.nn.functional as F\n",
    "import torch.optim as optim\n",
    "import pandas as pd\n",
    "import utils\n",
    "\n",
    "np.random.seed(0)\n",
    "torch.manual_seed(0)"
   ]
  },
  {
   "cell_type": "code",
   "execution_count": 57,
   "metadata": {},
   "outputs": [
    {
     "data": {
      "text/plain": [
       "(15000, 5)"
      ]
     },
     "execution_count": 57,
     "metadata": {},
     "output_type": "execute_result"
    }
   ],
   "source": [
    "rows = ['Zonal_Winds', 'Meridional_Winds', 'Humidity', 'Air_Temp', 'Sea_Surface_Temp']\n",
    "train_data = pd.read_csv('../../Cleaning-the-data/tao-cleaned.csv')[rows]\n",
    "\n",
    "train_data = (train_data - train_data.mean())/train_data.std()\n",
    "train_data = train_data.values[:15000]\n",
    "train_data.shape"
   ]
  },
  {
   "cell_type": "code",
   "execution_count": 53,
   "metadata": {},
   "outputs": [],
   "source": [
    "class Sequence(nn.Module):\n",
    "    def __init__(self):\n",
    "        super(Sequence,self).__init__()\n",
    "        self.lstm1 = nn.LSTM(5,50, 3)\n",
    "        self.lstm2 = nn.LSTM(50,1, 2)\n",
    "        \n",
    " \n",
    "    def forward(self, seq):\n",
    "        lstm1_out, _ = self.lstm1(seq, None)\n",
    "        lstm2_out, _ = self.lstm2(lstm1_out, None)\n",
    "        return lstm2_out.squeeze(1)"
   ]
  },
  {
   "cell_type": "code",
   "execution_count": 63,
   "metadata": {},
   "outputs": [],
   "source": [
    "# https://lirnli.wordpress.com/2017/09/01/simple-pytorch-rnn-examples/\n",
    "class Sequence(nn.Module):\n",
    "    def __init__(self):\n",
    "        super(Sequence,self).__init__()\n",
    "        self.lstm1 = nn.LSTM(5,16, 2)\n",
    "        self.lstm2 = nn.LSTM(16,1)\n",
    " \n",
    "    def forward(self,seq, hc = None):\n",
    "        out = []\n",
    "        if hc == None:\n",
    "            hc1, hc2 = None, None\n",
    "        else:\n",
    "            hc1, hc2 = hc\n",
    "        \n",
    "        for X in seq.chunk(seq.size(1),dim=0):\n",
    "#             print(X)\n",
    "            tmp, hc1 = self.lstm1(X, hc1)\n",
    "            X_in, hc2 = self.lstm2(tmp, hc2)\n",
    "            out.append(X_in)\n",
    "        return torch.stack(out).squeeze(1),(hc1,hc2)"
   ]
  },
  {
   "cell_type": "code",
   "execution_count": 70,
   "metadata": {},
   "outputs": [
    {
     "data": {
      "text/plain": [
       "(tensor([[[-0.0617],\n",
       "          [-0.0617]],\n",
       " \n",
       "         [[-0.0749],\n",
       "          [-0.0749]],\n",
       " \n",
       "         [[-0.0775],\n",
       "          [-0.0775]],\n",
       " \n",
       "         [[-0.0780],\n",
       "          [-0.0780]],\n",
       " \n",
       "         [[-0.0781],\n",
       "          [-0.0781]],\n",
       " \n",
       "         [[-0.0781],\n",
       "          [-0.0781]],\n",
       " \n",
       "         [[-0.0781],\n",
       "          [-0.0781]],\n",
       " \n",
       "         [[-0.0781],\n",
       "          [-0.0781]],\n",
       " \n",
       "         [[-0.0782],\n",
       "          [-0.0782]],\n",
       " \n",
       "         [[-0.0782],\n",
       "          [-0.0782]],\n",
       " \n",
       "         [[-0.0782],\n",
       "          [-0.0782]],\n",
       " \n",
       "         [[-0.0782],\n",
       "          [-0.0782]],\n",
       " \n",
       "         [[-0.0782],\n",
       "          [-0.0782]],\n",
       " \n",
       "         [[-0.0782],\n",
       "          [-0.0782]],\n",
       " \n",
       "         [[-0.0782],\n",
       "          [-0.0782]],\n",
       " \n",
       "         [[-0.0782],\n",
       "          [-0.0782]]], dtype=torch.float64, grad_fn=<CatBackward>),\n",
       " (tensor([[[-0.0853],\n",
       "           [-0.0825]],\n",
       "  \n",
       "          [[-0.2546],\n",
       "           [-0.2546]],\n",
       "  \n",
       "          [[ 0.0875],\n",
       "           [ 0.0875]],\n",
       "  \n",
       "          [[ 0.1799],\n",
       "           [ 0.1799]],\n",
       "  \n",
       "          [[-0.1975],\n",
       "           [-0.1975]],\n",
       "  \n",
       "          [[-0.0782],\n",
       "           [-0.0782]]], dtype=torch.float64, grad_fn=<ViewBackward>),\n",
       "  tensor([[[-1.9443],\n",
       "           [-2.1282]],\n",
       "  \n",
       "          [[-0.3320],\n",
       "           [-0.3321]],\n",
       "  \n",
       "          [[ 0.3788],\n",
       "           [ 0.3790]],\n",
       "  \n",
       "          [[ 0.3590],\n",
       "           [ 0.3590]],\n",
       "  \n",
       "          [[-0.3291],\n",
       "           [-0.3291]],\n",
       "  \n",
       "          [[-0.1791],\n",
       "           [-0.1791]]], dtype=torch.float64, grad_fn=<ViewBackward>)))"
      ]
     },
     "execution_count": 70,
     "metadata": {},
     "output_type": "execute_result"
    }
   ],
   "source": [
    "seq = nn.LSTM(5,1, 6)\n",
    "seq.double()\n",
    "test_data = torch.from_numpy(train_data[:32]).view(-1, 2, 5)\n",
    "seq(test_data)"
   ]
  },
  {
   "cell_type": "code",
   "execution_count": 71,
   "metadata": {},
   "outputs": [],
   "source": [
    "criterion = nn.MSELoss()\n",
    "lr = 0.2\n",
    "optimizer = optim.Adam(seq.parameters(), lr=lr)\n",
    "# optimizer = optim.LBFGS(seq.parameters(), lr=lr)\n",
    "seq_size = 128\n",
    "batch_size = 1"
   ]
  },
  {
   "cell_type": "code",
   "execution_count": 72,
   "metadata": {},
   "outputs": [
    {
     "name": "stdout",
     "output_type": "stream",
     "text": [
      "epoch= 0 \t loss= 1.5287090306810291 \t error=62.46%\n",
      "epoch= 5 \t loss= 1.1095753196015639 \t error=74.36%\n",
      "epoch= 10 \t loss= 1.1095753381331137 \t error=74.36%\n",
      "epoch= 15 \t loss= 1.1095753379436952 \t error=74.36%\n",
      "epoch= 20 \t loss= 1.1095753377054764 \t error=74.36%\n"
     ]
    },
    {
     "ename": "KeyboardInterrupt",
     "evalue": "",
     "output_type": "error",
     "traceback": [
      "\u001b[0;31m---------------------------------------------------------------------------\u001b[0m",
      "\u001b[0;31mKeyboardInterrupt\u001b[0m                         Traceback (most recent call last)",
      "\u001b[0;32m<ipython-input-72-53a413490bee>\u001b[0m in \u001b[0;36m<module>\u001b[0;34m()\u001b[0m\n\u001b[1;32m     11\u001b[0m         \u001b[0mlstm_out\u001b[0m\u001b[0;34m,\u001b[0m \u001b[0m_\u001b[0m \u001b[0;34m=\u001b[0m \u001b[0mseq\u001b[0m\u001b[0;34m(\u001b[0m\u001b[0mxs\u001b[0m\u001b[0;34m)\u001b[0m\u001b[0;34m\u001b[0m\u001b[0m\n\u001b[1;32m     12\u001b[0m         \u001b[0mloss\u001b[0m \u001b[0;34m=\u001b[0m \u001b[0mcriterion\u001b[0m\u001b[0;34m(\u001b[0m\u001b[0mlstm_out\u001b[0m\u001b[0;34m.\u001b[0m\u001b[0mview\u001b[0m\u001b[0;34m(\u001b[0m\u001b[0;36m1\u001b[0m\u001b[0;34m,\u001b[0m \u001b[0;34m-\u001b[0m\u001b[0;36m1\u001b[0m\u001b[0;34m)\u001b[0m\u001b[0;34m,\u001b[0m \u001b[0mys\u001b[0m\u001b[0;34m.\u001b[0m\u001b[0mview\u001b[0m\u001b[0;34m(\u001b[0m\u001b[0;36m1\u001b[0m\u001b[0;34m,\u001b[0m \u001b[0;34m-\u001b[0m\u001b[0;36m1\u001b[0m\u001b[0;34m)\u001b[0m\u001b[0;34m)\u001b[0m\u001b[0;34m\u001b[0m\u001b[0m\n\u001b[0;32m---> 13\u001b[0;31m         \u001b[0mloss\u001b[0m\u001b[0;34m.\u001b[0m\u001b[0mbackward\u001b[0m\u001b[0;34m(\u001b[0m\u001b[0;34m)\u001b[0m\u001b[0;34m\u001b[0m\u001b[0m\n\u001b[0m\u001b[1;32m     14\u001b[0m         \u001b[0moptimizer\u001b[0m\u001b[0;34m.\u001b[0m\u001b[0mstep\u001b[0m\u001b[0;34m(\u001b[0m\u001b[0;34m)\u001b[0m\u001b[0;34m\u001b[0m\u001b[0m\n\u001b[1;32m     15\u001b[0m \u001b[0;34m\u001b[0m\u001b[0m\n",
      "\u001b[0;32m/usr/local/lib/python3.7/site-packages/torch/tensor.py\u001b[0m in \u001b[0;36mbackward\u001b[0;34m(self, gradient, retain_graph, create_graph)\u001b[0m\n\u001b[1;32m     91\u001b[0m                 \u001b[0mproducts\u001b[0m\u001b[0;34m.\u001b[0m \u001b[0mDefaults\u001b[0m \u001b[0mto\u001b[0m\u001b[0;31m \u001b[0m\u001b[0;31m`\u001b[0m\u001b[0;31m`\u001b[0m\u001b[0;32mFalse\u001b[0m\u001b[0;31m`\u001b[0m\u001b[0;31m`\u001b[0m\u001b[0;34m.\u001b[0m\u001b[0;34m\u001b[0m\u001b[0m\n\u001b[1;32m     92\u001b[0m         \"\"\"\n\u001b[0;32m---> 93\u001b[0;31m         \u001b[0mtorch\u001b[0m\u001b[0;34m.\u001b[0m\u001b[0mautograd\u001b[0m\u001b[0;34m.\u001b[0m\u001b[0mbackward\u001b[0m\u001b[0;34m(\u001b[0m\u001b[0mself\u001b[0m\u001b[0;34m,\u001b[0m \u001b[0mgradient\u001b[0m\u001b[0;34m,\u001b[0m \u001b[0mretain_graph\u001b[0m\u001b[0;34m,\u001b[0m \u001b[0mcreate_graph\u001b[0m\u001b[0;34m)\u001b[0m\u001b[0;34m\u001b[0m\u001b[0m\n\u001b[0m\u001b[1;32m     94\u001b[0m \u001b[0;34m\u001b[0m\u001b[0m\n\u001b[1;32m     95\u001b[0m     \u001b[0;32mdef\u001b[0m \u001b[0mregister_hook\u001b[0m\u001b[0;34m(\u001b[0m\u001b[0mself\u001b[0m\u001b[0;34m,\u001b[0m \u001b[0mhook\u001b[0m\u001b[0;34m)\u001b[0m\u001b[0;34m:\u001b[0m\u001b[0;34m\u001b[0m\u001b[0m\n",
      "\u001b[0;32m/usr/local/lib/python3.7/site-packages/torch/autograd/__init__.py\u001b[0m in \u001b[0;36mbackward\u001b[0;34m(tensors, grad_tensors, retain_graph, create_graph, grad_variables)\u001b[0m\n\u001b[1;32m     88\u001b[0m     Variable._execution_engine.run_backward(\n\u001b[1;32m     89\u001b[0m         \u001b[0mtensors\u001b[0m\u001b[0;34m,\u001b[0m \u001b[0mgrad_tensors\u001b[0m\u001b[0;34m,\u001b[0m \u001b[0mretain_graph\u001b[0m\u001b[0;34m,\u001b[0m \u001b[0mcreate_graph\u001b[0m\u001b[0;34m,\u001b[0m\u001b[0;34m\u001b[0m\u001b[0m\n\u001b[0;32m---> 90\u001b[0;31m         allow_unreachable=True)  # allow_unreachable flag\n\u001b[0m\u001b[1;32m     91\u001b[0m \u001b[0;34m\u001b[0m\u001b[0m\n\u001b[1;32m     92\u001b[0m \u001b[0;34m\u001b[0m\u001b[0m\n",
      "\u001b[0;31mKeyboardInterrupt\u001b[0m: "
     ]
    }
   ],
   "source": [
    "for epoch in range(200):\n",
    "    running_loss = 0\n",
    "    running_error = 0\n",
    "    iterations = 0\n",
    "    for i in range(10000, 15000, seq_size):\n",
    "        data = train_data[i:i+seq_size+1]\n",
    "        xs = torch.from_numpy(data[:-1]).view(-1, batch_size, 5)\n",
    "        ys = torch.from_numpy(data[1:][:,-1]).view(-1, batch_size)\n",
    "    \n",
    "        optimizer.zero_grad()\n",
    "        lstm_out, _ = seq(xs)\n",
    "        loss = criterion(lstm_out.view(1, -1), ys.view(1, -1))\n",
    "        loss.backward()\n",
    "        optimizer.step()\n",
    "        \n",
    "        iterations += 1\n",
    "        with torch.no_grad():\n",
    "            running_loss += loss.item()\n",
    "            error = utils.get_error(lstm_out.view(1, -1), ys.view(1, -1))\n",
    "            running_error += error \n",
    "\n",
    "    # once the epoch is finished we divide the \"running quantities\"\n",
    "    # by the number of batches\n",
    "    if epoch % 5 == 0:\n",
    "        total_loss = running_loss/iterations\n",
    "        total_error = running_error/iterations\n",
    "        print('epoch=',epoch, '\\t loss=', total_loss, '\\t error={:2.2%}'.format(total_error))"
   ]
  },
  {
   "cell_type": "code",
   "execution_count": 73,
   "metadata": {},
   "outputs": [],
   "source": [
    "def predict_all(n):\n",
    "    data = train_data[-n:]\n",
    "    xs = torch.from_numpy(data[:-1]).view(-1, 1, 5)\n",
    "    ys = torch.from_numpy(data[1:][:,-1]).view(-1, 1)\n",
    "    predictions, _ = seq(xs)\n",
    "    return predictions.view(-1).detach().numpy(), ys.view(-1).detach().numpy()\n",
    "\n",
    "pred, actual = predict_all(1000)\n",
    "p = pd.Series(pred.T)\n",
    "a = pd.Series(actual.T)\n",
    "df = pd.DataFrame()\n",
    "df['Predictions'] = p\n",
    "df['Actual'] = a\n",
    "df.head()\n",
    "df.to_csv('./compared.csv')"
   ]
  },
  {
   "cell_type": "code",
   "execution_count": null,
   "metadata": {},
   "outputs": [],
   "source": []
  }
 ],
 "metadata": {
  "kernelspec": {
   "display_name": "Python 3",
   "language": "python",
   "name": "python3"
  },
  "language_info": {
   "codemirror_mode": {
    "name": "ipython",
    "version": 3
   },
   "file_extension": ".py",
   "mimetype": "text/x-python",
   "name": "python",
   "nbconvert_exporter": "python",
   "pygments_lexer": "ipython3",
   "version": "3.7.0"
  }
 },
 "nbformat": 4,
 "nbformat_minor": 2
}
