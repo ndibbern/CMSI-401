{
 "cells": [
  {
   "cell_type": "code",
   "execution_count": 1,
   "metadata": {},
   "outputs": [],
   "source": [
    "import numpy as np\n",
    "import torch\n",
    "from torch.autograd import Variable\n",
    "import torch.nn as nn\n",
    "import torch.nn.functional as F\n",
    "import torch.optim as optim\n",
    "import pandas as pd\n",
    "import utils"
   ]
  },
  {
   "cell_type": "code",
   "execution_count": 2,
   "metadata": {},
   "outputs": [
    {
     "data": {
      "text/plain": [
       "(15000, 5)"
      ]
     },
     "execution_count": 2,
     "metadata": {},
     "output_type": "execute_result"
    }
   ],
   "source": [
    "rows = ['Zonal_Winds', 'Meridional_Winds', 'Humidity', 'Air_Temp', 'Sea_Surface_Temp']\n",
    "train_data = pd.read_csv('../../Cleaning-the-data/tao-cleaned.csv')[rows]\n",
    "train_label = train_data['Sea_Surface_Temp']\n",
    "\n",
    "train_data = (train_data - train_data.mean())/train_data.std()\n",
    "train_data = train_data.values[:15000]\n",
    "train_label = train_label.values[:15000]\n",
    "train_data.shape"
   ]
  },
  {
   "cell_type": "code",
   "execution_count": 3,
   "metadata": {},
   "outputs": [],
   "source": [
    "class Sequence(nn.Module):\n",
    "    def __init__(self):\n",
    "        super(Sequence,self).__init__()\n",
    "        self.lstm1 = nn.LSTM(5,50, 2)\n",
    "        self.lstm2 = nn.LSTM(50,1, 2)\n",
    "        \n",
    " \n",
    "    def forward(self, seq):\n",
    "        lstm1_out, _ = self.lstm1(seq, None)\n",
    "        lstm2_out, _ = self.lstm2(lstm1_out, None)\n",
    "#         lstm3_out, _ = self.lstm3(lstm2_out, None)\n",
    "        return lstm2_out.squeeze(1)"
   ]
  },
  {
   "cell_type": "code",
   "execution_count": 4,
   "metadata": {},
   "outputs": [
    {
     "name": "stdout",
     "output_type": "stream",
     "text": [
      "tensor([[-0.7540],\n",
      "        [-0.8920],\n",
      "        [-1.2446],\n",
      "        [-1.7403],\n",
      "        [-2.3127],\n",
      "        [-2.0827],\n",
      "        [-1.7250],\n",
      "        [-1.8272],\n",
      "        [-1.7761],\n",
      "        [-0.9073]])\n",
      "tensor([[-0.1308],\n",
      "        [-0.1837],\n",
      "        [-0.2011],\n",
      "        [-0.2066],\n",
      "        [-0.2088],\n",
      "        [-0.2100],\n",
      "        [-0.2108],\n",
      "        [-0.2113],\n",
      "        [-0.2117],\n",
      "        [-0.2118]], grad_fn=<SqueezeBackward1>)\n"
     ]
    }
   ],
   "source": [
    "seq = Sequence()\n",
    "test_data = torch.Tensor(train_data[:10]).view(-1,1,5)\n",
    "test_label = torch.Tensor(train_data[:10][:,-1]).view(-1,1)\n",
    "\n",
    "print(test_label)\n",
    "print(seq(test_data))"
   ]
  },
  {
   "cell_type": "code",
   "execution_count": 5,
   "metadata": {},
   "outputs": [],
   "source": [
    "criterion = nn.MSELoss()\n",
    "optimizer = optim.Adam(seq.parameters(), lr=0.01)\n",
    "seq_size = 100"
   ]
  },
  {
   "cell_type": "code",
   "execution_count": 6,
   "metadata": {},
   "outputs": [
    {
     "name": "stdout",
     "output_type": "stream",
     "text": [
      "epoch= 0 \t loss= 1.4774146047482888 \t error=62.24% percent\n",
      "epoch= 1 \t loss= 1.2835714371750753 \t error=64.36% percent\n",
      "epoch= 2 \t loss= 1.2869718321909507 \t error=64.33% percent\n",
      "epoch= 3 \t loss= 1.2723797683790325 \t error=62.02% percent\n",
      "epoch= 4 \t loss= 1.2617568547278644 \t error=60.70% percent\n",
      "epoch= 5 \t loss= 1.3185275420049827 \t error=63.75% percent\n",
      "epoch= 6 \t loss= 1.3117730106537542 \t error=68.64% percent\n",
      "epoch= 7 \t loss= 1.2733270246411363 \t error=65.40% percent\n",
      "epoch= 8 \t loss= 1.2433182419339817 \t error=60.80% percent\n",
      "epoch= 9 \t loss= 1.2167981159314514 \t error=58.03% percent\n",
      "epoch= 10 \t loss= 1.21755927135547 \t error=58.17% percent\n",
      "epoch= 11 \t loss= 1.1212113984115422 \t error=54.48% percent\n",
      "epoch= 12 \t loss= 1.0997210957647865 \t error=53.01% percent\n",
      "epoch= 13 \t loss= 1.0689318373325902 \t error=49.33% percent\n",
      "epoch= 14 \t loss= 1.1372402382160847 \t error=56.30% percent\n",
      "epoch= 15 \t loss= 1.0925033390894532 \t error=53.08% percent\n",
      "epoch= 16 \t loss= 1.1400137879683947 \t error=58.31% percent\n",
      "epoch= 17 \t loss= 1.1013331249604623 \t error=53.19% percent\n",
      "epoch= 18 \t loss= 1.0724380771877866 \t error=50.29% percent\n",
      "epoch= 19 \t loss= 1.057751521434014 \t error=47.88% percent\n",
      "epoch= 20 \t loss= 1.0408119189211478 \t error=45.66% percent\n",
      "epoch= 21 \t loss= 1.0335154895251617 \t error=44.46% percent\n",
      "epoch= 22 \t loss= 1.031121404892765 \t error=44.01% percent\n",
      "epoch= 23 \t loss= 1.0309732625974963 \t error=43.90% percent\n",
      "epoch= 24 \t loss= 1.026852422723702 \t error=43.54% percent\n",
      "epoch= 25 \t loss= 1.0325366512623926 \t error=43.89% percent\n",
      "epoch= 26 \t loss= 1.0426385934092104 \t error=45.73% percent\n",
      "epoch= 27 \t loss= 1.0495033493265509 \t error=46.80% percent\n",
      "epoch= 28 \t loss= 1.0366004599863663 \t error=44.47% percent\n",
      "epoch= 29 \t loss= 1.0324539432736735 \t error=43.91% percent\n",
      "epoch= 30 \t loss= 1.026599895079465 \t error=43.25% percent\n",
      "epoch= 31 \t loss= 1.0254614341918689 \t error=43.12% percent\n",
      "epoch= 32 \t loss= 1.0248704563314095 \t error=43.13% percent\n",
      "epoch= 33 \t loss= 1.0247587622011392 \t error=43.12% percent\n",
      "epoch= 34 \t loss= 1.0233141658199019 \t error=43.03% percent\n",
      "epoch= 35 \t loss= 1.0388270665107606 \t error=45.66% percent\n",
      "epoch= 36 \t loss= 1.0294836211421838 \t error=43.74% percent\n",
      "epoch= 37 \t loss= 1.0409071642858907 \t error=45.10% percent\n",
      "epoch= 38 \t loss= 1.0529929464015488 \t error=47.12% percent\n",
      "epoch= 39 \t loss= 1.05581851547972 \t error=47.25% percent\n",
      "epoch= 40 \t loss= 1.0360537977338147 \t error=44.43% percent\n",
      "epoch= 41 \t loss= 1.0250507656803045 \t error=43.35% percent\n",
      "epoch= 42 \t loss= 1.0260624936906 \t error=43.16% percent\n",
      "epoch= 43 \t loss= 1.022514845492163 \t error=42.88% percent\n",
      "epoch= 44 \t loss= 1.021683960936886 \t error=42.88% percent\n",
      "epoch= 45 \t loss= 1.0216140910157507 \t error=42.84% percent\n",
      "epoch= 46 \t loss= 1.0209998705117809 \t error=42.84% percent\n",
      "epoch= 47 \t loss= 1.0218033541288847 \t error=42.87% percent\n",
      "epoch= 48 \t loss= 1.0200675521395168 \t error=42.81% percent\n",
      "epoch= 49 \t loss= 1.0195211439558383 \t error=42.79% percent\n"
     ]
    }
   ],
   "source": [
    "for epoch in range(50):\n",
    "    running_loss = 0\n",
    "    running_error = 0\n",
    "    num_batches = 0\n",
    "    for i in range(0, 15000, seq_size):\n",
    "        data = train_data[i:i+seq_size]\n",
    "        xs = torch.Tensor(data[:-1]).view(-1, 1, 5)\n",
    "        ys = torch.Tensor(data[1:][:,-1]).view(-1,1)\n",
    "        \n",
    "        lstm_out = seq(xs)\n",
    "        loss = criterion(lstm_out.view(1, -1), ys.view(1, -1))\n",
    "        \n",
    "        optimizer.zero_grad()\n",
    "        loss.backward()\n",
    "        optimizer.step()\n",
    "        \n",
    "        # compute some stats:\n",
    "        \n",
    "        num_batches+=1\n",
    "        \n",
    "        with torch.no_grad():\n",
    "            running_loss += loss.item()\n",
    "            error = utils.get_error(lstm_out.view(1, -1), ys.view(1, -1))\n",
    "            running_error += error \n",
    "\n",
    "    # once the epoch is finished we divide the \"running quantities\"\n",
    "    # by the number of batches\n",
    "    if epoch % 1 == 0:\n",
    "        total_loss = running_loss/num_batches\n",
    "        total_error = running_error/num_batches\n",
    "\n",
    "        print('epoch=',epoch, '\\t loss=', total_loss, '\\t error={:2.2%}'.format(total_error) ,'percent')"
   ]
  },
  {
   "cell_type": "code",
   "execution_count": null,
   "metadata": {},
   "outputs": [],
   "source": []
  },
  {
   "cell_type": "code",
   "execution_count": null,
   "metadata": {},
   "outputs": [],
   "source": []
  }
 ],
 "metadata": {
  "kernelspec": {
   "display_name": "Python 3",
   "language": "python",
   "name": "python3"
  },
  "language_info": {
   "codemirror_mode": {
    "name": "ipython",
    "version": 3
   },
   "file_extension": ".py",
   "mimetype": "text/x-python",
   "name": "python",
   "nbconvert_exporter": "python",
   "pygments_lexer": "ipython3",
   "version": "3.7.0"
  }
 },
 "nbformat": 4,
 "nbformat_minor": 2
}
