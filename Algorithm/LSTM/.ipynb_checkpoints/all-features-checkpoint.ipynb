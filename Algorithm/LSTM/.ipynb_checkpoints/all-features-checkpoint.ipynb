{
 "cells": [
  {
   "cell_type": "code",
   "execution_count": 1,
   "metadata": {},
   "outputs": [],
   "source": [
    "import numpy as np\n",
    "import torch\n",
    "from torch.autograd import Variable\n",
    "import torch.nn as nn\n",
    "import torch.nn.functional as F\n",
    "import torch.optim as optim\n",
    "import pandas as pd\n",
    "import utils"
   ]
  },
  {
   "cell_type": "code",
   "execution_count": 2,
   "metadata": {},
   "outputs": [
    {
     "data": {
      "text/plain": [
       "(15000, 5)"
      ]
     },
     "execution_count": 2,
     "metadata": {},
     "output_type": "execute_result"
    }
   ],
   "source": [
    "rows = ['Zonal_Winds', 'Meridional_Winds', 'Humidity', 'Air_Temp', 'Sea_Surface_Temp']\n",
    "train_data = pd.read_csv('../../Cleaning-the-data/tao-cleaned.csv')[rows]\n",
    "train_label = train_data['Sea_Surface_Temp']\n",
    "\n",
    "train_data = (train_data - train_data.mean())/train_data.std()\n",
    "train_data = train_data.values[:15000]\n",
    "train_label = train_label.values[:15000]\n",
    "train_data.shape"
   ]
  },
  {
   "cell_type": "code",
   "execution_count": 3,
   "metadata": {},
   "outputs": [],
   "source": [
    "class Sequence(nn.Module):\n",
    "    def __init__(self):\n",
    "        super(Sequence,self).__init__()\n",
    "        self.lstm1 = nn.LSTM(5,32)\n",
    "        self.lstm2 = nn.LSTM(32,32)\n",
    "        self.lstm3 = nn.LSTM(32,1)\n",
    " \n",
    "    def forward(self, seq):\n",
    "        lstm1_out, _ = self.lstm1(seq, None)\n",
    "        lstm2_out, _ = self.lstm2(lstm1_out, None)\n",
    "        lstm3_out, _ = self.lstm3(lstm2_out, None)\n",
    "        return lstm3_out.squeeze(1)"
   ]
  },
  {
   "cell_type": "code",
   "execution_count": 4,
   "metadata": {},
   "outputs": [
    {
     "name": "stdout",
     "output_type": "stream",
     "text": [
      "tensor([[-0.7540],\n",
      "        [-0.8920],\n",
      "        [-1.2446],\n",
      "        [-1.7403],\n",
      "        [-2.3127],\n",
      "        [-2.0827],\n",
      "        [-1.7250],\n",
      "        [-1.8272],\n",
      "        [-1.7761],\n",
      "        [-0.9073]])\n",
      "tensor([[-0.2751],\n",
      "        [-0.2829],\n",
      "        [-0.2654],\n",
      "        [-0.2554],\n",
      "        [-0.2500],\n",
      "        [-0.2476],\n",
      "        [-0.2463],\n",
      "        [-0.2446],\n",
      "        [-0.2425],\n",
      "        [-0.2404]], grad_fn=<SqueezeBackward1>)\n"
     ]
    }
   ],
   "source": [
    "seq = Sequence()\n",
    "test_data = torch.Tensor(train_data[:10]).view(-1,1,5)\n",
    "test_label = torch.Tensor(train_data[:10][:,-1]).view(-1,1)\n",
    "\n",
    "print(test_label)\n",
    "print(seq(test_data))"
   ]
  },
  {
   "cell_type": "code",
   "execution_count": 5,
   "metadata": {},
   "outputs": [],
   "source": [
    "criterion = nn.MSELoss()\n",
    "optimizer = optim.Adam(seq.parameters(), lr=0.01)\n",
    "seq_size = 50"
   ]
  },
  {
   "cell_type": "code",
   "execution_count": 6,
   "metadata": {},
   "outputs": [
    {
     "name": "stdout",
     "output_type": "stream",
     "text": [
      "epoch= 0 \t loss= 1.1407398899415664 \t error=84.56% percent\n",
      "epoch= 1 \t loss= 1.0392989963506503 \t error=79.90% percent\n",
      "epoch= 2 \t loss= 1.0301013463142348 \t error=75.31% percent\n",
      "epoch= 3 \t loss= 1.024320229133967 \t error=71.76% percent\n",
      "epoch= 4 \t loss= 1.0232329306117753 \t error=70.82% percent\n",
      "epoch= 5 \t loss= 1.0245121108239497 \t error=72.62% percent\n",
      "epoch= 6 \t loss= 1.0222426898332682 \t error=69.44% percent\n",
      "epoch= 7 \t loss= 1.0216932713252511 \t error=69.90% percent\n",
      "epoch= 8 \t loss= 1.0208474901962472 \t error=68.52% percent\n",
      "epoch= 9 \t loss= 1.0211938668051517 \t error=68.90% percent\n",
      "epoch= 10 \t loss= 1.0204881660733403 \t error=68.66% percent\n",
      "epoch= 11 \t loss= 1.0197805684352959 \t error=67.57% percent\n",
      "epoch= 12 \t loss= 1.0200029189843554 \t error=68.05% percent\n",
      "epoch= 13 \t loss= 1.0219034061943604 \t error=72.14% percent\n",
      "epoch= 14 \t loss= 1.0241992912491773 \t error=73.12% percent\n",
      "epoch= 15 \t loss= 1.0210054310877907 \t error=69.52% percent\n",
      "epoch= 16 \t loss= 1.0204321324747858 \t error=68.49% percent\n",
      "epoch= 17 \t loss= 1.0190915458434695 \t error=67.06% percent\n",
      "epoch= 18 \t loss= 1.021573520116793 \t error=70.14% percent\n",
      "epoch= 19 \t loss= 1.027810542847019 \t error=75.05% percent\n",
      "epoch= 20 \t loss= 1.0203777991435155 \t error=68.44% percent\n",
      "epoch= 21 \t loss= 1.021764015320257 \t error=70.96% percent\n",
      "epoch= 22 \t loss= 1.0193425349163532 \t error=66.80% percent\n",
      "epoch= 23 \t loss= 1.0183956282538669 \t error=65.50% percent\n",
      "epoch= 24 \t loss= 1.0192402900867932 \t error=67.38% percent\n",
      "epoch= 25 \t loss= 1.0188774712513662 \t error=67.40% percent\n",
      "epoch= 26 \t loss= 1.0194095286694635 \t error=66.67% percent\n",
      "epoch= 27 \t loss= 1.0183507521613337 \t error=66.22% percent\n",
      "epoch= 28 \t loss= 1.018293597590254 \t error=66.72% percent\n",
      "epoch= 29 \t loss= 1.0187246453036811 \t error=68.32% percent\n",
      "epoch= 30 \t loss= 1.0179980884041306 \t error=65.56% percent\n",
      "epoch= 31 \t loss= 1.0181020195308712 \t error=66.36% percent\n",
      "epoch= 32 \t loss= 1.01863560490245 \t error=67.59% percent\n",
      "epoch= 33 \t loss= 1.0176943660292042 \t error=66.14% percent\n",
      "epoch= 34 \t loss= 1.0182129533203497 \t error=65.94% percent\n",
      "epoch= 35 \t loss= 1.019831670123084 \t error=70.07% percent\n",
      "epoch= 36 \t loss= 1.0204081048107052 \t error=68.56% percent\n",
      "epoch= 37 \t loss= 1.0179941168962154 \t error=65.84% percent\n",
      "epoch= 38 \t loss= 1.017151751845923 \t error=64.60% percent\n",
      "epoch= 39 \t loss= 1.0166020424644344 \t error=64.49% percent\n",
      "epoch= 40 \t loss= 1.0162684216234281 \t error=64.44% percent\n",
      "epoch= 41 \t loss= 1.016142348076938 \t error=64.27% percent\n",
      "epoch= 42 \t loss= 1.0164218990750042 \t error=64.65% percent\n",
      "epoch= 43 \t loss= 1.0171694000028417 \t error=66.50% percent\n",
      "epoch= 44 \t loss= 1.0175149878227274 \t error=65.71% percent\n",
      "epoch= 45 \t loss= 1.0157369080277974 \t error=63.97% percent\n",
      "epoch= 46 \t loss= 1.0155577840368535 \t error=64.06% percent\n",
      "epoch= 47 \t loss= 1.0157311152559223 \t error=64.91% percent\n",
      "epoch= 48 \t loss= 1.0163914831539438 \t error=64.46% percent\n",
      "epoch= 49 \t loss= 1.0175944920781004 \t error=67.65% percent\n"
     ]
    }
   ],
   "source": [
    "for epoch in range(50):\n",
    "    running_loss = 0\n",
    "    running_error = 0\n",
    "    num_batches = 0\n",
    "    for i in range(0, 15000, seq_size):\n",
    "        data = train_data[i:i+seq_size]\n",
    "        xs = torch.Tensor(data[:-1]).view(-1, 1, 5)\n",
    "        ys = torch.Tensor(data[1:][:,-1]).view(-1,1)\n",
    "        \n",
    "        lstm_out = seq(xs)\n",
    "        loss = criterion(lstm_out.view(1, 49), ys.view(1, 49))\n",
    "        \n",
    "        optimizer.zero_grad()\n",
    "        loss.backward()\n",
    "        optimizer.step()\n",
    "        \n",
    "        # compute some stats:\n",
    "        \n",
    "        num_batches+=1\n",
    "        \n",
    "        with torch.no_grad():\n",
    "            running_loss += loss.item()\n",
    "            error = utils.get_error(lstm_out.view(1, 49), ys.view(1, 49))\n",
    "            running_error += error \n",
    "\n",
    "    # once the epoch is finished we divide the \"running quantities\"\n",
    "    # by the number of batches\n",
    "    if epoch % 1 == 0:\n",
    "        total_loss = running_loss/num_batches\n",
    "        total_error = running_error/num_batches\n",
    "\n",
    "        print('epoch=',epoch, '\\t loss=', total_loss, '\\t error={:2.2%}'.format(total_error) ,'percent')"
   ]
  },
  {
   "cell_type": "code",
   "execution_count": null,
   "metadata": {},
   "outputs": [],
   "source": []
  },
  {
   "cell_type": "code",
   "execution_count": null,
   "metadata": {},
   "outputs": [],
   "source": []
  }
 ],
 "metadata": {
  "kernelspec": {
   "display_name": "Python 3",
   "language": "python",
   "name": "python3"
  },
  "language_info": {
   "codemirror_mode": {
    "name": "ipython",
    "version": 3
   },
   "file_extension": ".py",
   "mimetype": "text/x-python",
   "name": "python",
   "nbconvert_exporter": "python",
   "pygments_lexer": "ipython3",
   "version": "3.7.0"
  }
 },
 "nbformat": 4,
 "nbformat_minor": 2
}
