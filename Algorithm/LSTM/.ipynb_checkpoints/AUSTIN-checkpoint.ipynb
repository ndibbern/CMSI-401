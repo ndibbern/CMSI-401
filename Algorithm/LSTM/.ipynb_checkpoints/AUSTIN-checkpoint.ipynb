{
 "cells": [
  {
   "cell_type": "code",
   "execution_count": 1,
   "metadata": {},
   "outputs": [],
   "source": [
    "import numpy as np\n",
    "import torch\n",
    "from torch.autograd import Variable\n",
    "import torch.nn as nn\n",
    "import torch.nn.functional as F\n",
    "import torch.optim as optim\n",
    "import pandas as pd\n",
    "import utils"
   ]
  },
  {
   "cell_type": "code",
   "execution_count": 2,
   "metadata": {},
   "outputs": [
    {
     "data": {
      "text/plain": [
       "(1318,)"
      ]
     },
     "execution_count": 2,
     "metadata": {},
     "output_type": "execute_result"
    }
   ],
   "source": [
    "train_data = pd.read_csv('./austin_weather.csv')['TempAvgF']\n",
    "train_data = (train_data - train_data.mean())/train_data.std()\n",
    "train_data = train_data.values[:-1]\n",
    "train_data.shape"
   ]
  },
  {
   "cell_type": "code",
   "execution_count": 3,
   "metadata": {},
   "outputs": [],
   "source": [
    "class Sequence(nn.Module):\n",
    "    def __init__(self):\n",
    "        super(Sequence,self).__init__()\n",
    "        self.lstm1 = nn.LSTM(1,16, 2)\n",
    "        self.lstm2 = nn.LSTM(16,1)\n",
    " \n",
    "    def forward(self,seq, hc = None):\n",
    "        out = []\n",
    "        if hc == None:\n",
    "            hc1, hc2 = None, None\n",
    "        else:\n",
    "            hc1, hc2 = hc\n",
    "        \n",
    "        for X in seq.chunk(seq.size(1),dim=0):\n",
    "            tmp, hc1 = self.lstm1(X, hc1)\n",
    "            X_in, hc2 = self.lstm2(tmp, hc2)\n",
    "            out.append(X_in)\n",
    "        return torch.stack(out).squeeze(1),(hc1,hc2)"
   ]
  },
  {
   "cell_type": "code",
   "execution_count": 6,
   "metadata": {},
   "outputs": [],
   "source": [
    "seq = Sequence()\n",
    "criterion = nn.MSELoss()\n",
    "optimizer = optim.Adam(seq.parameters(), lr=0.005)"
   ]
  },
  {
   "cell_type": "code",
   "execution_count": null,
   "metadata": {},
   "outputs": [
    {
     "name": "stderr",
     "output_type": "stream",
     "text": [
      "/usr/local/lib/python3.7/site-packages/ipykernel_launcher.py:19: UserWarning: invalid index of a 0-dim tensor. This will be an error in PyTorch 0.5. Use tensor.item() to convert a 0-dim tensor to a Python number\n"
     ]
    },
    {
     "name": "stdout",
     "output_type": "stream",
     "text": [
      "epoch 0, loss 58.2%, error 53.1%\n",
      "epoch 1, loss 28.0%, error 28.3%\n",
      "epoch 2, loss 24.2%, error 24.2%\n",
      "epoch 3, loss 23.4%, error 23.8%\n",
      "epoch 4, loss 23.1%, error 23.3%\n",
      "epoch 5, loss 22.9%, error 22.8%\n",
      "epoch 6, loss 22.8%, error 22.9%\n",
      "epoch 7, loss 22.5%, error 22.8%\n",
      "epoch 8, loss 22.3%, error 22.6%\n",
      "epoch 9, loss 22.1%, error 22.7%\n",
      "epoch 10, loss 22.1%, error 22.7%\n"
     ]
    }
   ],
   "source": [
    "for epoch in range(50):\n",
    "    total_loss = 0\n",
    "    running_error = 0\n",
    "    passes = 0\n",
    "    for i in range(0, 1318, 5):\n",
    "        data = train_data[i:i+32]\n",
    "        xs = torch.Tensor(data[:-1]).view(-1,1,1)\n",
    "        ys = torch.Tensor(data[1:])\n",
    "        \n",
    "        lstm_out, _= seq(xs)\n",
    "        loss = criterion(lstm_out.view(-1), ys)\n",
    "        \n",
    "        optimizer.zero_grad()\n",
    "        loss.backward()\n",
    "        optimizer.step()\n",
    "        \n",
    "        passes += 1\n",
    "        with torch.no_grad():\n",
    "            total_loss += loss.data[0]\n",
    "            error = utils.get_error(lstm_out.view(1, -1), ys.view(1, -1))\n",
    "            running_error += error \n",
    "        \n",
    "    print(\"epoch {}, loss {:2.1%}, error {:2.1%}\".format(epoch, total_loss/passes, running_error/passes))"
   ]
  },
  {
   "cell_type": "code",
   "execution_count": null,
   "metadata": {},
   "outputs": [],
   "source": [
    "def predict_all(n):\n",
    "    data = train_data[:n]\n",
    "    xs = torch.Tensor(data[:-1]).view(-1,1,1)\n",
    "    ys = torch.Tensor(data[1:])\n",
    "    predictions, _ = seq(xs)\n",
    "    return predictions.view(-1).detach().numpy(), ys.view(-1).detach().numpy()\n",
    "\n",
    "pred, actual = predict_all(1318)\n",
    "p = pd.Series(pred.T)\n",
    "a = pd.Series(actual.T)\n",
    "df = pd.DataFrame()\n",
    "df['Predictions'] = p\n",
    "df['Actual'] = a\n",
    "df.head()\n",
    "df.to_csv('./compared-austin.csv')"
   ]
  },
  {
   "cell_type": "code",
   "execution_count": null,
   "metadata": {},
   "outputs": [],
   "source": []
  }
 ],
 "metadata": {
  "kernelspec": {
   "display_name": "Python 3",
   "language": "python",
   "name": "python3"
  },
  "language_info": {
   "codemirror_mode": {
    "name": "ipython",
    "version": 3
   },
   "file_extension": ".py",
   "mimetype": "text/x-python",
   "name": "python",
   "nbconvert_exporter": "python",
   "pygments_lexer": "ipython3",
   "version": "3.7.0"
  }
 },
 "nbformat": 4,
 "nbformat_minor": 2
}
