{
 "cells": [
  {
   "cell_type": "code",
   "execution_count": 1,
   "metadata": {},
   "outputs": [],
   "source": [
    "import numpy as np\n",
    "import torch\n",
    "from torch.autograd import Variable\n",
    "import torch.nn as nn\n",
    "import torch.nn.functional as F\n",
    "import torch.optim as optim\n",
    "import pandas as pd\n",
    "import utils"
   ]
  },
  {
   "cell_type": "code",
   "execution_count": 2,
   "metadata": {},
   "outputs": [
    {
     "data": {
      "text/plain": [
       "(1318,)"
      ]
     },
     "execution_count": 2,
     "metadata": {},
     "output_type": "execute_result"
    }
   ],
   "source": [
    "train_data = pd.read_csv('./temperature-only.csv')['TempAvgF']\n",
    "train_data = (train_data - train_data.mean())/train_data.std()\n",
    "train_data = train_data.values[:-1]\n",
    "train_data.shape"
   ]
  },
  {
   "cell_type": "code",
   "execution_count": 3,
   "metadata": {},
   "outputs": [],
   "source": [
    "class Sequence(nn.Module):\n",
    "    def __init__(self):\n",
    "        super(Sequence,self).__init__()\n",
    "        self.lstm1 = nn.LSTM(1,16, 2)\n",
    "        self.lstm2 = nn.LSTM(16,1)\n",
    " \n",
    "    def forward(self,seq, hc = None):\n",
    "        out = []\n",
    "        if hc == None:\n",
    "            hc1, hc2 = None, None\n",
    "        else:\n",
    "            hc1, hc2 = hc\n",
    "        \n",
    "        for X in seq.chunk(seq.size(1),dim=0):\n",
    "            tmp, hc1 = self.lstm1(X, hc1)\n",
    "            X_in, hc2 = self.lstm2(tmp, hc2)\n",
    "            out.append(X_in)\n",
    "        return torch.stack(out).squeeze(1),(hc1,hc2)"
   ]
  },
  {
   "cell_type": "code",
   "execution_count": 4,
   "metadata": {},
   "outputs": [],
   "source": [
    "seq = Sequence()\n",
    "criterion = nn.MSELoss()\n",
    "optimizer = optim.Adam(seq.parameters(), lr=0.005)"
   ]
  },
  {
   "cell_type": "code",
   "execution_count": 5,
   "metadata": {},
   "outputs": [
    {
     "name": "stderr",
     "output_type": "stream",
     "text": [
      "/usr/local/lib/python3.7/site-packages/ipykernel_launcher.py:19: UserWarning: invalid index of a 0-dim tensor. This will be an error in PyTorch 0.5. Use tensor.item() to convert a 0-dim tensor to a Python number\n"
     ]
    },
    {
     "name": "stdout",
     "output_type": "stream",
     "text": [
      "epoch 0, loss 78.1%, error 61.3%\n",
      "epoch 1, loss 32.4%, error 31.4%\n",
      "epoch 2, loss 24.7%, error 24.9%\n",
      "epoch 3, loss 23.5%, error 23.5%\n",
      "epoch 4, loss 22.8%, error 22.9%\n",
      "epoch 5, loss 22.7%, error 23.1%\n",
      "epoch 6, loss 22.5%, error 22.9%\n",
      "epoch 7, loss 22.1%, error 22.3%\n",
      "epoch 8, loss 21.9%, error 22.1%\n",
      "epoch 9, loss 21.9%, error 21.8%\n",
      "epoch 10, loss 21.9%, error 21.9%\n",
      "epoch 11, loss 21.7%, error 21.7%\n",
      "epoch 12, loss 21.3%, error 21.6%\n",
      "epoch 13, loss 21.1%, error 21.2%\n",
      "epoch 14, loss 21.1%, error 20.7%\n",
      "epoch 15, loss 20.4%, error 20.0%\n",
      "epoch 16, loss 20.4%, error 19.8%\n",
      "epoch 17, loss 20.6%, error 20.0%\n",
      "epoch 18, loss 20.2%, error 19.9%\n",
      "epoch 19, loss 19.7%, error 18.7%\n",
      "epoch 20, loss 19.8%, error 19.0%\n",
      "epoch 21, loss 19.4%, error 18.5%\n",
      "epoch 22, loss 19.5%, error 18.8%\n",
      "epoch 23, loss 20.1%, error 19.1%\n",
      "epoch 24, loss 19.4%, error 18.1%\n",
      "epoch 25, loss 19.3%, error 18.2%\n",
      "epoch 26, loss 19.4%, error 18.4%\n",
      "epoch 27, loss 19.2%, error 18.3%\n",
      "epoch 28, loss 18.5%, error 17.0%\n",
      "epoch 29, loss 18.7%, error 17.4%\n",
      "epoch 30, loss 20.0%, error 18.9%\n",
      "epoch 31, loss 18.9%, error 17.7%\n",
      "epoch 32, loss 18.4%, error 16.8%\n",
      "epoch 33, loss 18.3%, error 16.9%\n",
      "epoch 34, loss 18.3%, error 16.5%\n",
      "epoch 35, loss 18.6%, error 17.1%\n",
      "epoch 36, loss 18.0%, error 16.3%\n",
      "epoch 37, loss 18.0%, error 16.2%\n",
      "epoch 38, loss 18.8%, error 16.9%\n",
      "epoch 39, loss 18.2%, error 16.1%\n",
      "epoch 40, loss 19.1%, error 17.8%\n",
      "epoch 41, loss 18.2%, error 16.9%\n",
      "epoch 42, loss 18.3%, error 16.5%\n",
      "epoch 43, loss 17.8%, error 15.6%\n",
      "epoch 44, loss 17.9%, error 15.9%\n",
      "epoch 45, loss 17.7%, error 15.6%\n",
      "epoch 46, loss 17.4%, error 15.6%\n",
      "epoch 47, loss 17.3%, error 15.1%\n",
      "epoch 48, loss 17.4%, error 15.2%\n",
      "epoch 49, loss 17.3%, error 14.7%\n"
     ]
    }
   ],
   "source": [
    "for epoch in range(50):\n",
    "    total_loss = 0\n",
    "    running_error = 0\n",
    "    passes = 0\n",
    "    for i in range(0, 1318, 5):\n",
    "        data = train_data[i:i+32]\n",
    "        xs = torch.Tensor(data[:-1]).view(-1,1,1)\n",
    "        ys = torch.Tensor(data[1:])\n",
    "        \n",
    "        lstm_out, _= seq(xs)\n",
    "        loss = criterion(lstm_out.view(-1), ys)\n",
    "        \n",
    "        optimizer.zero_grad()\n",
    "        loss.backward()\n",
    "        optimizer.step()\n",
    "        \n",
    "        passes += 1\n",
    "        with torch.no_grad():\n",
    "            total_loss += loss.data[0]\n",
    "            error = utils.get_error(lstm_out.view(1, -1), ys.view(1, -1))\n",
    "            running_error += error \n",
    "        \n",
    "    print(\"epoch {}, loss {:2.1%}, error {:2.1%}\".format(epoch, total_loss/passes, running_error/passes))"
   ]
  },
  {
   "cell_type": "code",
   "execution_count": 6,
   "metadata": {},
   "outputs": [],
   "source": [
    "def predict_all(n):\n",
    "    data = train_data[:n]\n",
    "    xs = torch.Tensor(data[:-1]).view(-1,1,1)\n",
    "    ys = torch.Tensor(data[1:])\n",
    "    predictions, _ = seq(xs)\n",
    "    return predictions.view(-1).detach().numpy(), ys.view(-1).detach().numpy()\n",
    "\n",
    "pred, actual = predict_all(1318)\n",
    "p = pd.Series(pred.T)\n",
    "a = pd.Series(actual.T)\n",
    "df = pd.DataFrame()\n",
    "df['Predictions'] = p\n",
    "df['Actual'] = a\n",
    "df.head()\n",
    "df.to_csv('./compared.csv')"
   ]
  },
  {
   "cell_type": "code",
   "execution_count": null,
   "metadata": {},
   "outputs": [],
   "source": []
  }
 ],
 "metadata": {
  "kernelspec": {
   "display_name": "Python 3",
   "language": "python",
   "name": "python3"
  },
  "language_info": {
   "codemirror_mode": {
    "name": "ipython",
    "version": 3
   },
   "file_extension": ".py",
   "mimetype": "text/x-python",
   "name": "python",
   "nbconvert_exporter": "python",
   "pygments_lexer": "ipython3",
   "version": "3.7.0"
  }
 },
 "nbformat": 4,
 "nbformat_minor": 2
}
