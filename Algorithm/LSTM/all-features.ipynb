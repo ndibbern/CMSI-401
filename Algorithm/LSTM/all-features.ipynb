{
 "cells": [
  {
   "cell_type": "code",
   "execution_count": 1,
   "metadata": {},
   "outputs": [],
   "source": [
    "import numpy as np\n",
    "import torch\n",
    "from torch.autograd import Variable\n",
    "import torch.nn as nn\n",
    "import torch.nn.functional as F\n",
    "import torch.optim as optim\n",
    "import pandas as pd\n",
    "import utils"
   ]
  },
  {
   "cell_type": "code",
   "execution_count": 2,
   "metadata": {},
   "outputs": [
    {
     "data": {
      "text/plain": [
       "(15000, 5)"
      ]
     },
     "execution_count": 2,
     "metadata": {},
     "output_type": "execute_result"
    }
   ],
   "source": [
    "rows = ['Zonal_Winds', 'Meridional_Winds', 'Humidity', 'Air_Temp', 'Sea_Surface_Temp']\n",
    "train_data = pd.read_csv('../../Cleaning-the-data/tao-cleaned.csv')[rows]\n",
    "train_label = train_data['Sea_Surface_Temp']\n",
    "\n",
    "train_data = (train_data - train_data.mean())/train_data.std()\n",
    "train_data = train_data.values[:15000]\n",
    "train_label = train_label.values[:15000]\n",
    "train_data.shape"
   ]
  },
  {
   "cell_type": "code",
   "execution_count": 3,
   "metadata": {},
   "outputs": [],
   "source": [
    "class Sequence(nn.Module):\n",
    "    def __init__(self):\n",
    "        super(Sequence,self).__init__()\n",
    "        self.lstm1 = nn.LSTM(5,32)\n",
    "        self.lstm2 = nn.LSTM(32,32)\n",
    "        self.lstm3 = nn.LSTM(32,1)\n",
    " \n",
    "    def forward(self, seq):\n",
    "        lstm1_out, _ = self.lstm1(seq, None)\n",
    "        lstm2_out, _ = self.lstm2(lstm1_out, None)\n",
    "        lstm3_out, _ = self.lstm3(lstm2_out, None)\n",
    "        return lstm3_out.squeeze(1)"
   ]
  },
  {
   "cell_type": "code",
   "execution_count": 4,
   "metadata": {},
   "outputs": [
    {
     "name": "stdout",
     "output_type": "stream",
     "text": [
      "tensor([[-0.7540],\n",
      "        [-0.8920],\n",
      "        [-1.2446],\n",
      "        [-1.7403],\n",
      "        [-2.3127],\n",
      "        [-2.0827],\n",
      "        [-1.7250],\n",
      "        [-1.8272],\n",
      "        [-1.7761],\n",
      "        [-0.9073]])\n",
      "tensor([[-0.1861],\n",
      "        [-0.3055],\n",
      "        [-0.3726],\n",
      "        [-0.4092],\n",
      "        [-0.4292],\n",
      "        [-0.4384],\n",
      "        [-0.4428],\n",
      "        [-0.4458],\n",
      "        [-0.4472],\n",
      "        [-0.4456]], grad_fn=<SqueezeBackward1>)\n"
     ]
    }
   ],
   "source": [
    "seq = Sequence()\n",
    "test_data = torch.Tensor(train_data[:10]).view(-1,1,5)\n",
    "test_label = torch.Tensor(train_data[:10][:,-1]).view(-1,1)\n",
    "\n",
    "print(test_label)\n",
    "print(seq(test_data))"
   ]
  },
  {
   "cell_type": "code",
   "execution_count": 5,
   "metadata": {},
   "outputs": [],
   "source": [
    "criterion = nn.MSELoss()\n",
    "optimizer = optim.Adam(seq.parameters(), lr=0.008)\n",
    "seq_size = 50"
   ]
  },
  {
   "cell_type": "code",
   "execution_count": 6,
   "metadata": {},
   "outputs": [
    {
     "name": "stdout",
     "output_type": "stream",
     "text": [
      "epoch= 0 \t loss= 1.2354844128456899 \t error= 98.83673469387769 percent\n",
      "epoch= 1 \t loss= 1.1642660581895325 \t error= 98.08843537414977 percent\n",
      "epoch= 2 \t loss= 1.3180643992041101 \t error= 98.70748299319743 percent\n",
      "epoch= 3 \t loss= 1.100154884443973 \t error= 97.34013605442193 percent\n",
      "epoch= 4 \t loss= 1.0575814697350627 \t error= 96.88435374149675 percent\n"
     ]
    }
   ],
   "source": [
    "for epoch in range(5):\n",
    "    running_loss = 0\n",
    "    running_error = 0\n",
    "    num_batches = 0\n",
    "    for i in range(0, 15000, seq_size):\n",
    "        data = train_data[i:i+seq_size]\n",
    "        xs = torch.Tensor(data[:-1]).view(-1, 1, 5)\n",
    "        ys = torch.Tensor(data[1:][:,-1]).view(-1,1)\n",
    "        \n",
    "        lstm_out = seq(xs)\n",
    "        loss = criterion(lstm_out.view(1, 49), ys.view(1, 49))\n",
    "        \n",
    "        optimizer.zero_grad()\n",
    "        loss.backward()\n",
    "        optimizer.step()\n",
    "        \n",
    "        # compute some stats:\n",
    "        \n",
    "        num_batches+=1\n",
    "        \n",
    "        with torch.no_grad():\n",
    "            running_loss += loss.item()\n",
    "            error = utils.get_error(lstm_out.view(1,-1) , ys)\n",
    "            running_error += error \n",
    "\n",
    "    # once the epoch is finished we divide the \"running quantities\"\n",
    "    # by the number of batches\n",
    "    if epoch % 1 == 0:\n",
    "        total_loss = running_loss/num_batches\n",
    "        total_error = running_error/num_batches\n",
    "\n",
    "        print('epoch=',epoch, '\\t loss=', total_loss, '\\t error=', total_error*100 ,'percent')"
   ]
  },
  {
   "cell_type": "code",
   "execution_count": null,
   "metadata": {},
   "outputs": [],
   "source": []
  },
  {
   "cell_type": "code",
   "execution_count": null,
   "metadata": {},
   "outputs": [],
   "source": []
  }
 ],
 "metadata": {
  "kernelspec": {
   "display_name": "Python 3",
   "language": "python",
   "name": "python3"
  },
  "language_info": {
   "codemirror_mode": {
    "name": "ipython",
    "version": 3
   },
   "file_extension": ".py",
   "mimetype": "text/x-python",
   "name": "python",
   "nbconvert_exporter": "python",
   "pygments_lexer": "ipython3",
   "version": "3.7.0"
  }
 },
 "nbformat": 4,
 "nbformat_minor": 2
}
