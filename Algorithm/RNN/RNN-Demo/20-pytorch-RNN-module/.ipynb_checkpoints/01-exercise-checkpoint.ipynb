{
 "cells": [
  {
   "cell_type": "markdown",
   "metadata": {},
   "source": [
    "# RNN exercise"
   ]
  },
  {
   "cell_type": "code",
   "execution_count": null,
   "metadata": {},
   "outputs": [],
   "source": [
    "import torch\n",
    "import torch.nn as nn"
   ]
  },
  {
   "cell_type": "markdown",
   "metadata": {},
   "source": [
    "### Make a RNN module\n",
    "* input size:  2\n",
    "* hidden size:  2  \n",
    "* number of layers: 1\n",
    "* nonlinearity $\\sigma(x) = \\text{ReLU}(x)$.  To do this you do:  nonlinearity = 'relu'"
   ]
  },
  {
   "cell_type": "code",
   "execution_count": null,
   "metadata": {},
   "outputs": [],
   "source": [
    "mod = # COMPLETE\n",
    "print(mod)"
   ]
  },
  {
   "cell_type": "markdown",
   "metadata": {},
   "source": [
    "### Set the weights to be:$ \\qquad \n",
    "R= \\begin{bmatrix}\n",
    "1 & 0 \\\\\n",
    "0 & 1\n",
    "\\end{bmatrix} \\qquad \\text{and} \\qquad \n",
    "W= \\begin{bmatrix}\n",
    "-2 & 0  \\\\\n",
    "0 & 2 \n",
    "\\end{bmatrix} \n",
    "$\n",
    "\n",
    "Recall the API:\n",
    "* mod.weight_ih_l3   (weight of the matrix to go from input to hidden at layer 3)\n",
    "* mod.weight_hh_l5   (weight of the matrix to go from hidden to hidden at layer 5)"
   ]
  },
  {
   "cell_type": "code",
   "execution_count": null,
   "metadata": {},
   "outputs": [],
   "source": [
    "# COMPLETE HERE"
   ]
  },
  {
   "cell_type": "markdown",
   "metadata": {},
   "source": [
    "### Create a sequence to be processed by the RNN:\n",
    "$$\n",
    "x_1 = \\begin{bmatrix}\n",
    "1\\\\ 0\n",
    "\\end{bmatrix}\n",
    "\\qquad\n",
    "x_2 = \\begin{bmatrix}\n",
    "0\\\\ 1\n",
    "\\end{bmatrix}\n",
    "\\qquad\n",
    "x_3 = \\begin{bmatrix}\n",
    "0\\\\ 1\n",
    "\\end{bmatrix}\n",
    "$$"
   ]
  },
  {
   "cell_type": "code",
   "execution_count": null,
   "metadata": {},
   "outputs": [],
   "source": [
    "x1= # COMPLETE\n",
    "x2= # COMPLETE\n",
    "x3= # COMPLETE"
   ]
  },
  {
   "cell_type": "markdown",
   "metadata": {},
   "source": [
    "### Put the squence in a tensor of appropriate shape:  seq_len x bs x input_size. You will need to use stack() and view()."
   ]
  },
  {
   "cell_type": "code",
   "execution_count": null,
   "metadata": {},
   "outputs": [],
   "source": [
    "# COMPLETE "
   ]
  },
  {
   "cell_type": "markdown",
   "metadata": {},
   "source": [
    "### Feed the sequence to the rnn"
   ]
  },
  {
   "cell_type": "code",
   "execution_count": null,
   "metadata": {},
   "outputs": [],
   "source": [
    "# COMPLETE"
   ]
  },
  {
   "cell_type": "markdown",
   "metadata": {},
   "source": [
    "### Print the last hidden state (check that you recover what was computed with pen and paper)"
   ]
  },
  {
   "cell_type": "code",
   "execution_count": null,
   "metadata": {},
   "outputs": [],
   "source": [
    "# COMPLETE"
   ]
  },
  {
   "cell_type": "markdown",
   "metadata": {},
   "source": [
    "### Print all the hidden states (check that you recover what was computed with pen and paper)"
   ]
  },
  {
   "cell_type": "code",
   "execution_count": null,
   "metadata": {},
   "outputs": [],
   "source": [
    "# COMPLETE"
   ]
  }
 ],
 "metadata": {
  "kernelspec": {
   "display_name": "Python 3",
   "language": "python",
   "name": "python3"
  },
  "language_info": {
   "codemirror_mode": {
    "name": "ipython",
    "version": 3
   },
   "file_extension": ".py",
   "mimetype": "text/x-python",
   "name": "python",
   "nbconvert_exporter": "python",
   "pygments_lexer": "ipython3",
   "version": "3.6.4"
  }
 },
 "nbformat": 4,
 "nbformat_minor": 2
}
